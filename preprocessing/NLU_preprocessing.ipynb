{
  "nbformat": 4,
  "nbformat_minor": 0,
  "metadata": {
    "colab": {
      "name": "NLU_preprocessing",
      "provenance": [],
      "collapsed_sections": [
        "biA1FBgVUgeX",
        "a4erGKhYlRVj"
      ],
      "authorship_tag": "ABX9TyN7Oh4r3kPx9PNr0KYMoh5f"
    },
    "kernelspec": {
      "name": "python3",
      "display_name": "Python 3"
    },
    "language_info": {
      "name": "python"
    }
  },
  "cells": [
    {
      "cell_type": "markdown",
      "source": [
        "### 0. 설치 및 설정"
      ],
      "metadata": {
        "id": "biA1FBgVUgeX"
      }
    },
    {
      "cell_type": "code",
      "execution_count": 1,
      "metadata": {
        "colab": {
          "base_uri": "https://localhost:8080/"
        },
        "id": "OTi_rVBGUSGK",
        "outputId": "0ce18c7f-6ea7-4396-e29b-3458788fde83"
      },
      "outputs": [
        {
          "output_type": "stream",
          "name": "stdout",
          "text": [
            "Collecting transformers\n",
            "  Downloading transformers-4.18.0-py3-none-any.whl (4.0 MB)\n",
            "\u001b[K     |████████████████████████████████| 4.0 MB 12.1 MB/s \n",
            "\u001b[?25hRequirement already satisfied: requests in /usr/local/lib/python3.7/dist-packages (from transformers) (2.23.0)\n",
            "Collecting tokenizers!=0.11.3,<0.13,>=0.11.1\n",
            "  Downloading tokenizers-0.12.1-cp37-cp37m-manylinux_2_12_x86_64.manylinux2010_x86_64.whl (6.6 MB)\n",
            "\u001b[K     |████████████████████████████████| 6.6 MB 48.5 MB/s \n",
            "\u001b[?25hRequirement already satisfied: filelock in /usr/local/lib/python3.7/dist-packages (from transformers) (3.6.0)\n",
            "Requirement already satisfied: regex!=2019.12.17 in /usr/local/lib/python3.7/dist-packages (from transformers) (2019.12.20)\n",
            "Collecting sacremoses\n",
            "  Downloading sacremoses-0.0.49-py3-none-any.whl (895 kB)\n",
            "\u001b[K     |████████████████████████████████| 895 kB 58.4 MB/s \n",
            "\u001b[?25hCollecting huggingface-hub<1.0,>=0.1.0\n",
            "  Downloading huggingface_hub-0.5.1-py3-none-any.whl (77 kB)\n",
            "\u001b[K     |████████████████████████████████| 77 kB 4.9 MB/s \n",
            "\u001b[?25hRequirement already satisfied: numpy>=1.17 in /usr/local/lib/python3.7/dist-packages (from transformers) (1.21.5)\n",
            "Collecting pyyaml>=5.1\n",
            "  Downloading PyYAML-6.0-cp37-cp37m-manylinux_2_5_x86_64.manylinux1_x86_64.manylinux_2_12_x86_64.manylinux2010_x86_64.whl (596 kB)\n",
            "\u001b[K     |████████████████████████████████| 596 kB 64.7 MB/s \n",
            "\u001b[?25hRequirement already satisfied: packaging>=20.0 in /usr/local/lib/python3.7/dist-packages (from transformers) (21.3)\n",
            "Requirement already satisfied: importlib-metadata in /usr/local/lib/python3.7/dist-packages (from transformers) (4.11.3)\n",
            "Requirement already satisfied: tqdm>=4.27 in /usr/local/lib/python3.7/dist-packages (from transformers) (4.64.0)\n",
            "Requirement already satisfied: typing-extensions>=3.7.4.3 in /usr/local/lib/python3.7/dist-packages (from huggingface-hub<1.0,>=0.1.0->transformers) (4.1.1)\n",
            "Requirement already satisfied: pyparsing!=3.0.5,>=2.0.2 in /usr/local/lib/python3.7/dist-packages (from packaging>=20.0->transformers) (3.0.8)\n",
            "Requirement already satisfied: zipp>=0.5 in /usr/local/lib/python3.7/dist-packages (from importlib-metadata->transformers) (3.8.0)\n",
            "Requirement already satisfied: certifi>=2017.4.17 in /usr/local/lib/python3.7/dist-packages (from requests->transformers) (2021.10.8)\n",
            "Requirement already satisfied: urllib3!=1.25.0,!=1.25.1,<1.26,>=1.21.1 in /usr/local/lib/python3.7/dist-packages (from requests->transformers) (1.24.3)\n",
            "Requirement already satisfied: chardet<4,>=3.0.2 in /usr/local/lib/python3.7/dist-packages (from requests->transformers) (3.0.4)\n",
            "Requirement already satisfied: idna<3,>=2.5 in /usr/local/lib/python3.7/dist-packages (from requests->transformers) (2.10)\n",
            "Requirement already satisfied: joblib in /usr/local/lib/python3.7/dist-packages (from sacremoses->transformers) (1.1.0)\n",
            "Requirement already satisfied: click in /usr/local/lib/python3.7/dist-packages (from sacremoses->transformers) (7.1.2)\n",
            "Requirement already satisfied: six in /usr/local/lib/python3.7/dist-packages (from sacremoses->transformers) (1.15.0)\n",
            "Installing collected packages: pyyaml, tokenizers, sacremoses, huggingface-hub, transformers\n",
            "  Attempting uninstall: pyyaml\n",
            "    Found existing installation: PyYAML 3.13\n",
            "    Uninstalling PyYAML-3.13:\n",
            "      Successfully uninstalled PyYAML-3.13\n",
            "Successfully installed huggingface-hub-0.5.1 pyyaml-6.0 sacremoses-0.0.49 tokenizers-0.12.1 transformers-4.18.0\n"
          ]
        }
      ],
      "source": [
        "!pip install transformers"
      ]
    },
    {
      "cell_type": "code",
      "source": [
        "import os\n",
        "import sys\n",
        "import pandas as pd\n",
        "import numpy as np \n",
        "\n",
        "import re\n",
        "import requests\n",
        "\n",
        "import torch\n",
        "import torch.nn as nn\n",
        "import tensorflow as tf\n",
        "\n",
        "from transformers import AutoModel, AutoTokenizer\n",
        "from tqdm import tqdm"
      ],
      "metadata": {
        "id": "uzol4pU2UZup"
      },
      "execution_count": 2,
      "outputs": []
    },
    {
      "cell_type": "code",
      "source": [
        "# GPU 메모리 에러 체크\n",
        "gpus = tf.config.experimental.list_physical_devices('GPU')\n",
        "if gpus:\n",
        "    try:\n",
        "        # Currently, memory growth needs to be the same across GPUs\n",
        "        for gpu in gpus:\n",
        "            tf.config.experimental.set_memory_growth(gpu, True)\n",
        "        logical_gpus = tf.config.experimental.list_logical_devices('GPU')\n",
        "        print(len(gpus), \"Physical GPUs,\", len(logical_gpus), \"Logical GPUs\")\n",
        "    except RuntimeError as e:\n",
        "        # Memory growth must be set before GPUs have been initialized\n",
        "        print(e)"
      ],
      "metadata": {
        "id": "RJXh6_ZKr0SF"
      },
      "execution_count": 3,
      "outputs": []
    },
    {
      "cell_type": "code",
      "source": [
        "# seed\n",
        "seed = 42\n",
        "torch.manual_seed(seed)\n",
        "torch.cuda.manual_seed_all(seed)\n",
        "\n",
        "# device type\n",
        "if torch.cuda.is_available():\n",
        "    device = torch.device(\"cuda\")\n",
        "    print(f\"# available GPUs : {torch.cuda.device_count()}\")\n",
        "    print(f\"GPU name : {torch.cuda.get_device_name()}\")\n",
        "else:\n",
        "    device = torch.device(\"cpu\")\n",
        "print(device)"
      ],
      "metadata": {
        "colab": {
          "base_uri": "https://localhost:8080/"
        },
        "id": "hz--_7hEUhc5",
        "outputId": "8a262a85-bef4-4bee-dcea-5b51e883e5cb"
      },
      "execution_count": 4,
      "outputs": [
        {
          "output_type": "stream",
          "name": "stdout",
          "text": [
            "cpu\n"
          ]
        }
      ]
    },
    {
      "cell_type": "code",
      "source": [
        "from google.colab import drive\n",
        "drive.mount(\"/content/drive\")"
      ],
      "metadata": {
        "colab": {
          "base_uri": "https://localhost:8080/"
        },
        "id": "cnLqqpUbUny8",
        "outputId": "8bd8e269-4d90-446f-8062-eed0d5d31850"
      },
      "execution_count": 5,
      "outputs": [
        {
          "output_type": "stream",
          "name": "stdout",
          "text": [
            "Mounted at /content/drive\n"
          ]
        }
      ]
    },
    {
      "cell_type": "code",
      "source": [
        "train_df = pd.read_json('/content/drive/MyDrive/data/klue-sts-v1.1/klue-sts-v1.1_train.json')\n",
        "dev_df = pd.read_json('/content/drive/MyDrive/data/klue-sts-v1.1/klue-sts-v1.1_dev.json')"
      ],
      "metadata": {
        "id": "g8RTf6SSUxsI"
      },
      "execution_count": 6,
      "outputs": []
    },
    {
      "cell_type": "markdown",
      "source": [
        "### 1. 전처리"
      ],
      "metadata": {
        "id": "VjMSvxOeYDAu"
      }
    },
    {
      "cell_type": "code",
      "source": [
        "train_df.head()"
      ],
      "metadata": {
        "colab": {
          "base_uri": "https://localhost:8080/",
          "height": 0
        },
        "id": "SOS5Uh33X9L9",
        "outputId": "1bbace17-7fac-45c1-f19f-7dfeadef0932"
      },
      "execution_count": 7,
      "outputs": [
        {
          "output_type": "execute_result",
          "data": {
            "text/plain": [
              "                      guid           source  \\\n",
              "0  klue-sts-v1_train_00000       airbnb-rtt   \n",
              "1  klue-sts-v1_train_00001   policy-sampled   \n",
              "2  klue-sts-v1_train_00002  paraKQC-sampled   \n",
              "3  klue-sts-v1_train_00003   policy-sampled   \n",
              "4  klue-sts-v1_train_00004       airbnb-rtt   \n",
              "\n",
              "                                           sentence1  \\\n",
              "0                   숙소 위치는 찾기 쉽고 일반적인 한국의 반지하 숙소입니다.   \n",
              "1      위반행위 조사 등을 거부·방해·기피한 자는 500만원 이하 과태료 부과 대상이다.   \n",
              "2            회사가 보낸 메일은 이 지메일이 아니라 다른 지메일 계정으로 전달해줘.   \n",
              "3  긴급 고용안정지원금은 지역고용대응 등 특별지원금, 지자체별 소상공인 지원사업, 취업...   \n",
              "4                        호스트의 답장이 늦으나, 개선될 것으로 보입니다.   \n",
              "\n",
              "                                    sentence2  \\\n",
              "0  숙박시설의 위치는 쉽게 찾을 수 있고 한국의 대표적인 반지하 숙박시설입니다.   \n",
              "1       시민들 스스로 자발적인 예방 노력을 한 것은 아산 뿐만이 아니었다.   \n",
              "2                  사람들이 주로 네이버 메일을 쓰는 이유를 알려줘   \n",
              "3   고용보험이 1차 고용안전망이라면, 국민취업지원제도는 2차 고용안전망입니다.   \n",
              "4                  호스트 응답이 늦었지만 개선될 것으로 보입니다.   \n",
              "\n",
              "                                              labels  \\\n",
              "0  {'label': 3.7, 'real-label': 3.714285714285714...   \n",
              "1  {'label': 0.0, 'real-label': 0.0, 'binary-labe...   \n",
              "2  {'label': 0.30000000000000004, 'real-label': 0...   \n",
              "3  {'label': 0.6000000000000001, 'real-label': 0....   \n",
              "4  {'label': 4.7, 'real-label': 4.714285714285714...   \n",
              "\n",
              "                                         annotations  \n",
              "0  {'agreement': '0:0:0:2:5:0', 'annotators': ['0...  \n",
              "1  {'agreement': '5:0:0:0:0:0', 'annotators': ['1...  \n",
              "2  {'agreement': '4:2:0:0:0:0', 'annotators': ['1...  \n",
              "3  {'agreement': '4:2:1:0:0:0', 'annotators': ['1...  \n",
              "4  {'agreement': '0:0:0:0:2:5', 'annotators': ['1...  "
            ],
            "text/html": [
              "\n",
              "  <div id=\"df-3cfef996-64c4-4e73-bab9-58a7f42ed38f\">\n",
              "    <div class=\"colab-df-container\">\n",
              "      <div>\n",
              "<style scoped>\n",
              "    .dataframe tbody tr th:only-of-type {\n",
              "        vertical-align: middle;\n",
              "    }\n",
              "\n",
              "    .dataframe tbody tr th {\n",
              "        vertical-align: top;\n",
              "    }\n",
              "\n",
              "    .dataframe thead th {\n",
              "        text-align: right;\n",
              "    }\n",
              "</style>\n",
              "<table border=\"1\" class=\"dataframe\">\n",
              "  <thead>\n",
              "    <tr style=\"text-align: right;\">\n",
              "      <th></th>\n",
              "      <th>guid</th>\n",
              "      <th>source</th>\n",
              "      <th>sentence1</th>\n",
              "      <th>sentence2</th>\n",
              "      <th>labels</th>\n",
              "      <th>annotations</th>\n",
              "    </tr>\n",
              "  </thead>\n",
              "  <tbody>\n",
              "    <tr>\n",
              "      <th>0</th>\n",
              "      <td>klue-sts-v1_train_00000</td>\n",
              "      <td>airbnb-rtt</td>\n",
              "      <td>숙소 위치는 찾기 쉽고 일반적인 한국의 반지하 숙소입니다.</td>\n",
              "      <td>숙박시설의 위치는 쉽게 찾을 수 있고 한국의 대표적인 반지하 숙박시설입니다.</td>\n",
              "      <td>{'label': 3.7, 'real-label': 3.714285714285714...</td>\n",
              "      <td>{'agreement': '0:0:0:2:5:0', 'annotators': ['0...</td>\n",
              "    </tr>\n",
              "    <tr>\n",
              "      <th>1</th>\n",
              "      <td>klue-sts-v1_train_00001</td>\n",
              "      <td>policy-sampled</td>\n",
              "      <td>위반행위 조사 등을 거부·방해·기피한 자는 500만원 이하 과태료 부과 대상이다.</td>\n",
              "      <td>시민들 스스로 자발적인 예방 노력을 한 것은 아산 뿐만이 아니었다.</td>\n",
              "      <td>{'label': 0.0, 'real-label': 0.0, 'binary-labe...</td>\n",
              "      <td>{'agreement': '5:0:0:0:0:0', 'annotators': ['1...</td>\n",
              "    </tr>\n",
              "    <tr>\n",
              "      <th>2</th>\n",
              "      <td>klue-sts-v1_train_00002</td>\n",
              "      <td>paraKQC-sampled</td>\n",
              "      <td>회사가 보낸 메일은 이 지메일이 아니라 다른 지메일 계정으로 전달해줘.</td>\n",
              "      <td>사람들이 주로 네이버 메일을 쓰는 이유를 알려줘</td>\n",
              "      <td>{'label': 0.30000000000000004, 'real-label': 0...</td>\n",
              "      <td>{'agreement': '4:2:0:0:0:0', 'annotators': ['1...</td>\n",
              "    </tr>\n",
              "    <tr>\n",
              "      <th>3</th>\n",
              "      <td>klue-sts-v1_train_00003</td>\n",
              "      <td>policy-sampled</td>\n",
              "      <td>긴급 고용안정지원금은 지역고용대응 등 특별지원금, 지자체별 소상공인 지원사업, 취업...</td>\n",
              "      <td>고용보험이 1차 고용안전망이라면, 국민취업지원제도는 2차 고용안전망입니다.</td>\n",
              "      <td>{'label': 0.6000000000000001, 'real-label': 0....</td>\n",
              "      <td>{'agreement': '4:2:1:0:0:0', 'annotators': ['1...</td>\n",
              "    </tr>\n",
              "    <tr>\n",
              "      <th>4</th>\n",
              "      <td>klue-sts-v1_train_00004</td>\n",
              "      <td>airbnb-rtt</td>\n",
              "      <td>호스트의 답장이 늦으나, 개선될 것으로 보입니다.</td>\n",
              "      <td>호스트 응답이 늦었지만 개선될 것으로 보입니다.</td>\n",
              "      <td>{'label': 4.7, 'real-label': 4.714285714285714...</td>\n",
              "      <td>{'agreement': '0:0:0:0:2:5', 'annotators': ['1...</td>\n",
              "    </tr>\n",
              "  </tbody>\n",
              "</table>\n",
              "</div>\n",
              "      <button class=\"colab-df-convert\" onclick=\"convertToInteractive('df-3cfef996-64c4-4e73-bab9-58a7f42ed38f')\"\n",
              "              title=\"Convert this dataframe to an interactive table.\"\n",
              "              style=\"display:none;\">\n",
              "        \n",
              "  <svg xmlns=\"http://www.w3.org/2000/svg\" height=\"24px\"viewBox=\"0 0 24 24\"\n",
              "       width=\"24px\">\n",
              "    <path d=\"M0 0h24v24H0V0z\" fill=\"none\"/>\n",
              "    <path d=\"M18.56 5.44l.94 2.06.94-2.06 2.06-.94-2.06-.94-.94-2.06-.94 2.06-2.06.94zm-11 1L8.5 8.5l.94-2.06 2.06-.94-2.06-.94L8.5 2.5l-.94 2.06-2.06.94zm10 10l.94 2.06.94-2.06 2.06-.94-2.06-.94-.94-2.06-.94 2.06-2.06.94z\"/><path d=\"M17.41 7.96l-1.37-1.37c-.4-.4-.92-.59-1.43-.59-.52 0-1.04.2-1.43.59L10.3 9.45l-7.72 7.72c-.78.78-.78 2.05 0 2.83L4 21.41c.39.39.9.59 1.41.59.51 0 1.02-.2 1.41-.59l7.78-7.78 2.81-2.81c.8-.78.8-2.07 0-2.86zM5.41 20L4 18.59l7.72-7.72 1.47 1.35L5.41 20z\"/>\n",
              "  </svg>\n",
              "      </button>\n",
              "      \n",
              "  <style>\n",
              "    .colab-df-container {\n",
              "      display:flex;\n",
              "      flex-wrap:wrap;\n",
              "      gap: 12px;\n",
              "    }\n",
              "\n",
              "    .colab-df-convert {\n",
              "      background-color: #E8F0FE;\n",
              "      border: none;\n",
              "      border-radius: 50%;\n",
              "      cursor: pointer;\n",
              "      display: none;\n",
              "      fill: #1967D2;\n",
              "      height: 32px;\n",
              "      padding: 0 0 0 0;\n",
              "      width: 32px;\n",
              "    }\n",
              "\n",
              "    .colab-df-convert:hover {\n",
              "      background-color: #E2EBFA;\n",
              "      box-shadow: 0px 1px 2px rgba(60, 64, 67, 0.3), 0px 1px 3px 1px rgba(60, 64, 67, 0.15);\n",
              "      fill: #174EA6;\n",
              "    }\n",
              "\n",
              "    [theme=dark] .colab-df-convert {\n",
              "      background-color: #3B4455;\n",
              "      fill: #D2E3FC;\n",
              "    }\n",
              "\n",
              "    [theme=dark] .colab-df-convert:hover {\n",
              "      background-color: #434B5C;\n",
              "      box-shadow: 0px 1px 3px 1px rgba(0, 0, 0, 0.15);\n",
              "      filter: drop-shadow(0px 1px 2px rgba(0, 0, 0, 0.3));\n",
              "      fill: #FFFFFF;\n",
              "    }\n",
              "  </style>\n",
              "\n",
              "      <script>\n",
              "        const buttonEl =\n",
              "          document.querySelector('#df-3cfef996-64c4-4e73-bab9-58a7f42ed38f button.colab-df-convert');\n",
              "        buttonEl.style.display =\n",
              "          google.colab.kernel.accessAllowed ? 'block' : 'none';\n",
              "\n",
              "        async function convertToInteractive(key) {\n",
              "          const element = document.querySelector('#df-3cfef996-64c4-4e73-bab9-58a7f42ed38f');\n",
              "          const dataTable =\n",
              "            await google.colab.kernel.invokeFunction('convertToInteractive',\n",
              "                                                     [key], {});\n",
              "          if (!dataTable) return;\n",
              "\n",
              "          const docLinkHtml = 'Like what you see? Visit the ' +\n",
              "            '<a target=\"_blank\" href=https://colab.research.google.com/notebooks/data_table.ipynb>data table notebook</a>'\n",
              "            + ' to learn more about interactive tables.';\n",
              "          element.innerHTML = '';\n",
              "          dataTable['output_type'] = 'display_data';\n",
              "          await google.colab.output.renderOutput(dataTable, element);\n",
              "          const docLink = document.createElement('div');\n",
              "          docLink.innerHTML = docLinkHtml;\n",
              "          element.appendChild(docLink);\n",
              "        }\n",
              "      </script>\n",
              "    </div>\n",
              "  </div>\n",
              "  "
            ]
          },
          "metadata": {},
          "execution_count": 7
        }
      ]
    },
    {
      "cell_type": "code",
      "source": [
        "with pd.option_context('display.max_colwidth', None):\n",
        "  display(train_df.head(1))\n",
        "# 3.0 보다 평균 점수가 높으면 1 낮으면 0"
      ],
      "metadata": {
        "colab": {
          "base_uri": "https://localhost:8080/"
        },
        "id": "JCF_rKDoYBP5",
        "outputId": "2a7e5704-85ee-4557-fafa-950f01d28c22"
      },
      "execution_count": null,
      "outputs": [
        {
          "output_type": "display_data",
          "data": {
            "text/plain": [
              "                      guid      source                         sentence1  \\\n",
              "0  klue-sts-v1_train_00000  airbnb-rtt  숙소 위치는 찾기 쉽고 일반적인 한국의 반지하 숙소입니다.   \n",
              "\n",
              "                                    sentence2  \\\n",
              "0  숙박시설의 위치는 쉽게 찾을 수 있고 한국의 대표적인 반지하 숙박시설입니다.   \n",
              "\n",
              "                                                               labels  \\\n",
              "0  {'label': 3.7, 'real-label': 3.714285714285714, 'binary-label': 1}   \n",
              "\n",
              "                                                                                                                    annotations  \n",
              "0  {'agreement': '0:0:0:2:5:0', 'annotators': ['07', '13', '15', '10', '12', '02', '19'], 'annotations': [3, 4, 4, 4, 3, 4, 4]}  "
            ],
            "text/html": [
              "\n",
              "  <div id=\"df-64e6237a-514a-4ea2-b7c7-8a3ebb31ab7c\">\n",
              "    <div class=\"colab-df-container\">\n",
              "      <div>\n",
              "<style scoped>\n",
              "    .dataframe tbody tr th:only-of-type {\n",
              "        vertical-align: middle;\n",
              "    }\n",
              "\n",
              "    .dataframe tbody tr th {\n",
              "        vertical-align: top;\n",
              "    }\n",
              "\n",
              "    .dataframe thead th {\n",
              "        text-align: right;\n",
              "    }\n",
              "</style>\n",
              "<table border=\"1\" class=\"dataframe\">\n",
              "  <thead>\n",
              "    <tr style=\"text-align: right;\">\n",
              "      <th></th>\n",
              "      <th>guid</th>\n",
              "      <th>source</th>\n",
              "      <th>sentence1</th>\n",
              "      <th>sentence2</th>\n",
              "      <th>labels</th>\n",
              "      <th>annotations</th>\n",
              "    </tr>\n",
              "  </thead>\n",
              "  <tbody>\n",
              "    <tr>\n",
              "      <th>0</th>\n",
              "      <td>klue-sts-v1_train_00000</td>\n",
              "      <td>airbnb-rtt</td>\n",
              "      <td>숙소 위치는 찾기 쉽고 일반적인 한국의 반지하 숙소입니다.</td>\n",
              "      <td>숙박시설의 위치는 쉽게 찾을 수 있고 한국의 대표적인 반지하 숙박시설입니다.</td>\n",
              "      <td>{'label': 3.7, 'real-label': 3.714285714285714, 'binary-label': 1}</td>\n",
              "      <td>{'agreement': '0:0:0:2:5:0', 'annotators': ['07', '13', '15', '10', '12', '02', '19'], 'annotations': [3, 4, 4, 4, 3, 4, 4]}</td>\n",
              "    </tr>\n",
              "  </tbody>\n",
              "</table>\n",
              "</div>\n",
              "      <button class=\"colab-df-convert\" onclick=\"convertToInteractive('df-64e6237a-514a-4ea2-b7c7-8a3ebb31ab7c')\"\n",
              "              title=\"Convert this dataframe to an interactive table.\"\n",
              "              style=\"display:none;\">\n",
              "        \n",
              "  <svg xmlns=\"http://www.w3.org/2000/svg\" height=\"24px\"viewBox=\"0 0 24 24\"\n",
              "       width=\"24px\">\n",
              "    <path d=\"M0 0h24v24H0V0z\" fill=\"none\"/>\n",
              "    <path d=\"M18.56 5.44l.94 2.06.94-2.06 2.06-.94-2.06-.94-.94-2.06-.94 2.06-2.06.94zm-11 1L8.5 8.5l.94-2.06 2.06-.94-2.06-.94L8.5 2.5l-.94 2.06-2.06.94zm10 10l.94 2.06.94-2.06 2.06-.94-2.06-.94-.94-2.06-.94 2.06-2.06.94z\"/><path d=\"M17.41 7.96l-1.37-1.37c-.4-.4-.92-.59-1.43-.59-.52 0-1.04.2-1.43.59L10.3 9.45l-7.72 7.72c-.78.78-.78 2.05 0 2.83L4 21.41c.39.39.9.59 1.41.59.51 0 1.02-.2 1.41-.59l7.78-7.78 2.81-2.81c.8-.78.8-2.07 0-2.86zM5.41 20L4 18.59l7.72-7.72 1.47 1.35L5.41 20z\"/>\n",
              "  </svg>\n",
              "      </button>\n",
              "      \n",
              "  <style>\n",
              "    .colab-df-container {\n",
              "      display:flex;\n",
              "      flex-wrap:wrap;\n",
              "      gap: 12px;\n",
              "    }\n",
              "\n",
              "    .colab-df-convert {\n",
              "      background-color: #E8F0FE;\n",
              "      border: none;\n",
              "      border-radius: 50%;\n",
              "      cursor: pointer;\n",
              "      display: none;\n",
              "      fill: #1967D2;\n",
              "      height: 32px;\n",
              "      padding: 0 0 0 0;\n",
              "      width: 32px;\n",
              "    }\n",
              "\n",
              "    .colab-df-convert:hover {\n",
              "      background-color: #E2EBFA;\n",
              "      box-shadow: 0px 1px 2px rgba(60, 64, 67, 0.3), 0px 1px 3px 1px rgba(60, 64, 67, 0.15);\n",
              "      fill: #174EA6;\n",
              "    }\n",
              "\n",
              "    [theme=dark] .colab-df-convert {\n",
              "      background-color: #3B4455;\n",
              "      fill: #D2E3FC;\n",
              "    }\n",
              "\n",
              "    [theme=dark] .colab-df-convert:hover {\n",
              "      background-color: #434B5C;\n",
              "      box-shadow: 0px 1px 3px 1px rgba(0, 0, 0, 0.15);\n",
              "      filter: drop-shadow(0px 1px 2px rgba(0, 0, 0, 0.3));\n",
              "      fill: #FFFFFF;\n",
              "    }\n",
              "  </style>\n",
              "\n",
              "      <script>\n",
              "        const buttonEl =\n",
              "          document.querySelector('#df-64e6237a-514a-4ea2-b7c7-8a3ebb31ab7c button.colab-df-convert');\n",
              "        buttonEl.style.display =\n",
              "          google.colab.kernel.accessAllowed ? 'block' : 'none';\n",
              "\n",
              "        async function convertToInteractive(key) {\n",
              "          const element = document.querySelector('#df-64e6237a-514a-4ea2-b7c7-8a3ebb31ab7c');\n",
              "          const dataTable =\n",
              "            await google.colab.kernel.invokeFunction('convertToInteractive',\n",
              "                                                     [key], {});\n",
              "          if (!dataTable) return;\n",
              "\n",
              "          const docLinkHtml = 'Like what you see? Visit the ' +\n",
              "            '<a target=\"_blank\" href=https://colab.research.google.com/notebooks/data_table.ipynb>data table notebook</a>'\n",
              "            + ' to learn more about interactive tables.';\n",
              "          element.innerHTML = '';\n",
              "          dataTable['output_type'] = 'display_data';\n",
              "          await google.colab.output.renderOutput(dataTable, element);\n",
              "          const docLink = document.createElement('div');\n",
              "          docLink.innerHTML = docLinkHtml;\n",
              "          element.appendChild(docLink);\n",
              "        }\n",
              "      </script>\n",
              "    </div>\n",
              "  </div>\n",
              "  "
            ]
          },
          "metadata": {}
        }
      ]
    },
    {
      "cell_type": "code",
      "source": [
        "# 데이터셋 shape 확인\n",
        "# 약 22배 차이\n",
        "train_df.shape, dev_df.shape"
      ],
      "metadata": {
        "colab": {
          "base_uri": "https://localhost:8080/"
        },
        "id": "cwa7c5dwYfFi",
        "outputId": "af38ed9a-850e-4a90-9e91-e5a55fe395fa"
      },
      "execution_count": null,
      "outputs": [
        {
          "output_type": "execute_result",
          "data": {
            "text/plain": [
              "((11668, 6), (519, 6))"
            ]
          },
          "metadata": {},
          "execution_count": 9
        }
      ]
    },
    {
      "cell_type": "code",
      "source": [
        "train_df['labels_str'] = train_df['labels'].astype(str)"
      ],
      "metadata": {
        "id": "3qwXuT9T-ou9"
      },
      "execution_count": 8,
      "outputs": []
    },
    {
      "cell_type": "code",
      "source": [
        "# 중복행 발견\n",
        "train_df.duplicated(['sentence1', 'sentence2', 'labels_str']).sum()"
      ],
      "metadata": {
        "colab": {
          "base_uri": "https://localhost:8080/"
        },
        "id": "Wx0KaiS6x3B_",
        "outputId": "b86620a6-c9f0-4613-9e42-a339f3e9c47a"
      },
      "execution_count": 9,
      "outputs": [
        {
          "output_type": "execute_result",
          "data": {
            "text/plain": [
              "5"
            ]
          },
          "metadata": {},
          "execution_count": 9
        }
      ]
    },
    {
      "cell_type": "code",
      "source": [
        "# sentence1, sentence2 동일한 데이터 발견 \n",
        "# 하나씩만 남기고 제거\n",
        "train_df[train_df.duplicated(['sentence1','sentence2', 'labels_str'], keep=False)]"
      ],
      "metadata": {
        "colab": {
          "base_uri": "https://localhost:8080/",
          "height": 0
        },
        "id": "NqDGHK8YyLVN",
        "outputId": "f0392e3e-7ad0-49da-8345-02261d0fcbd5"
      },
      "execution_count": 10,
      "outputs": [
        {
          "output_type": "execute_result",
          "data": {
            "text/plain": [
              "                          guid      source  \\\n",
              "1514   klue-sts-v1_train_01514  policy-rtt   \n",
              "1661   klue-sts-v1_train_01661  airbnb-rtt   \n",
              "1715   klue-sts-v1_train_01715  airbnb-rtt   \n",
              "3872   klue-sts-v1_train_03872  policy-rtt   \n",
              "5139   klue-sts-v1_train_05139  policy-rtt   \n",
              "5292   klue-sts-v1_train_05292  policy-rtt   \n",
              "7045   klue-sts-v1_train_07045  policy-rtt   \n",
              "10908  klue-sts-v1_train_10908  policy-rtt   \n",
              "10939  klue-sts-v1_train_10939  policy-rtt   \n",
              "11112  klue-sts-v1_train_11112  policy-rtt   \n",
              "\n",
              "                                               sentence1  \\\n",
              "1514   제2차 전략회의에서 대전, 경기, 강원, 전남, 제주, 경남 등 6개 시·도지사는 ...   \n",
              "1661                     택시타고 공항갔을 때 20유로로 15분내에 도착했었어요.   \n",
              "1715                     택시타고 공항갔을 때 20유로로 15분내에 도착했었어요.   \n",
              "3872   제2차 전략회의에서 대전, 경기, 강원, 전남, 제주, 경남 등 6개 시·도지사는 ...   \n",
              "5139   지난달 하루 평균 수출액이 전년대비 5.6% 증가한 가운데 자동차는 2017년 11...   \n",
              "5292   제2차 전략회의에서 대전, 경기, 강원, 전남, 제주, 경남 등 6개 시·도지사는 ...   \n",
              "7045   지난달 하루 평균 수출액이 전년대비 5.6% 증가한 가운데 자동차는 2017년 11...   \n",
              "10908  지난달 하루 평균 수출액이 전년대비 5.6% 증가한 가운데 자동차는 2017년 11...   \n",
              "10939  지난달 하루 평균 수출액이 전년대비 5.6% 증가한 가운데 자동차는 2017년 11...   \n",
              "11112  제2차 전략회의에서 대전, 경기, 강원, 전남, 제주, 경남 등 6개 시·도지사는 ...   \n",
              "\n",
              "                                               sentence2  \\\n",
              "1514   제2차 전략회의에서 대전, 경기, 강원, 전남, 제주, 경남 등 6개 시·도지사가 ...   \n",
              "1661                택시를 타고 공항에 갔을 때, 15분만에 20유로에 도착했습니다.   \n",
              "1715                택시를 타고 공항에 갔을 때, 15분만에 20유로에 도착했습니다.   \n",
              "3872   제2차 전략회의에서 대전, 경기, 강원, 전남, 제주, 경남 등 6개 시·도지사가 ...   \n",
              "5139   지난 달 평균 일일 수출액이 전년 동월대비 5.6% 증가하면서, 자동차의 수출은 2...   \n",
              "5292   제2차 전략회의에서 대전, 경기, 강원, 전남, 제주, 경남 등 6개 시·도지사가 ...   \n",
              "7045   지난 달 평균 일일 수출액이 전년 동월대비 5.6% 증가하면서, 자동차의 수출은 2...   \n",
              "10908  지난 달 평균 일일 수출액이 전년 동월대비 5.6% 증가하면서, 자동차의 수출은 2...   \n",
              "10939  지난 달 평균 일일 수출액이 전년 동월대비 5.6% 증가하면서, 자동차의 수출은 2...   \n",
              "11112  제2차 전략회의에서 대전, 경기, 강원, 전남, 제주, 경남 등 6개 시·도지사가 ...   \n",
              "\n",
              "                                                  labels  \\\n",
              "1514   {'label': 4.7, 'real-label': 4.714285714285714...   \n",
              "1661   {'label': 4.7, 'real-label': 4.666666666666667...   \n",
              "1715   {'label': 4.7, 'real-label': 4.666666666666667...   \n",
              "3872   {'label': 4.9, 'real-label': 4.857142857142857...   \n",
              "5139   {'label': 4.6, 'real-label': 4.571428571428571...   \n",
              "5292   {'label': 4.7, 'real-label': 4.714285714285714...   \n",
              "7045   {'label': 4.0, 'real-label': 4.0, 'binary-labe...   \n",
              "10908  {'label': 4.0, 'real-label': 4.0, 'binary-labe...   \n",
              "10939  {'label': 4.6, 'real-label': 4.571428571428571...   \n",
              "11112  {'label': 4.9, 'real-label': 4.857142857142857...   \n",
              "\n",
              "                                             annotations  \\\n",
              "1514   {'agreement': '0:0:0:0:2:5', 'annotators': ['0...   \n",
              "1661   {'agreement': '0:0:0:0:2:4', 'annotators': ['1...   \n",
              "1715   {'agreement': '0:0:0:0:2:4', 'annotators': ['1...   \n",
              "3872   {'agreement': '0:0:0:0:1:6', 'annotators': ['1...   \n",
              "5139   {'agreement': '0:0:0:0:3:4', 'annotators': ['0...   \n",
              "5292   {'agreement': '0:0:0:0:2:5', 'annotators': ['0...   \n",
              "7045   {'agreement': '0:0:0:1:5:1', 'annotators': ['1...   \n",
              "10908  {'agreement': '0:0:0:1:5:1', 'annotators': ['1...   \n",
              "10939  {'agreement': '0:0:0:0:3:4', 'annotators': ['0...   \n",
              "11112  {'agreement': '0:0:0:0:1:6', 'annotators': ['1...   \n",
              "\n",
              "                                              labels_str  \n",
              "1514   {'label': 4.7, 'real-label': 4.714285714285714...  \n",
              "1661   {'label': 4.7, 'real-label': 4.666666666666667...  \n",
              "1715   {'label': 4.7, 'real-label': 4.666666666666667...  \n",
              "3872   {'label': 4.9, 'real-label': 4.857142857142857...  \n",
              "5139   {'label': 4.6, 'real-label': 4.571428571428571...  \n",
              "5292   {'label': 4.7, 'real-label': 4.714285714285714...  \n",
              "7045   {'label': 4.0, 'real-label': 4.0, 'binary-labe...  \n",
              "10908  {'label': 4.0, 'real-label': 4.0, 'binary-labe...  \n",
              "10939  {'label': 4.6, 'real-label': 4.571428571428571...  \n",
              "11112  {'label': 4.9, 'real-label': 4.857142857142857...  "
            ],
            "text/html": [
              "\n",
              "  <div id=\"df-f2126fc5-c785-479f-80ae-49bcf0535859\">\n",
              "    <div class=\"colab-df-container\">\n",
              "      <div>\n",
              "<style scoped>\n",
              "    .dataframe tbody tr th:only-of-type {\n",
              "        vertical-align: middle;\n",
              "    }\n",
              "\n",
              "    .dataframe tbody tr th {\n",
              "        vertical-align: top;\n",
              "    }\n",
              "\n",
              "    .dataframe thead th {\n",
              "        text-align: right;\n",
              "    }\n",
              "</style>\n",
              "<table border=\"1\" class=\"dataframe\">\n",
              "  <thead>\n",
              "    <tr style=\"text-align: right;\">\n",
              "      <th></th>\n",
              "      <th>guid</th>\n",
              "      <th>source</th>\n",
              "      <th>sentence1</th>\n",
              "      <th>sentence2</th>\n",
              "      <th>labels</th>\n",
              "      <th>annotations</th>\n",
              "      <th>labels_str</th>\n",
              "    </tr>\n",
              "  </thead>\n",
              "  <tbody>\n",
              "    <tr>\n",
              "      <th>1514</th>\n",
              "      <td>klue-sts-v1_train_01514</td>\n",
              "      <td>policy-rtt</td>\n",
              "      <td>제2차 전략회의에서 대전, 경기, 강원, 전남, 제주, 경남 등 6개 시·도지사는 ...</td>\n",
              "      <td>제2차 전략회의에서 대전, 경기, 강원, 전남, 제주, 경남 등 6개 시·도지사가 ...</td>\n",
              "      <td>{'label': 4.7, 'real-label': 4.714285714285714...</td>\n",
              "      <td>{'agreement': '0:0:0:0:2:5', 'annotators': ['0...</td>\n",
              "      <td>{'label': 4.7, 'real-label': 4.714285714285714...</td>\n",
              "    </tr>\n",
              "    <tr>\n",
              "      <th>1661</th>\n",
              "      <td>klue-sts-v1_train_01661</td>\n",
              "      <td>airbnb-rtt</td>\n",
              "      <td>택시타고 공항갔을 때 20유로로 15분내에 도착했었어요.</td>\n",
              "      <td>택시를 타고 공항에 갔을 때, 15분만에 20유로에 도착했습니다.</td>\n",
              "      <td>{'label': 4.7, 'real-label': 4.666666666666667...</td>\n",
              "      <td>{'agreement': '0:0:0:0:2:4', 'annotators': ['1...</td>\n",
              "      <td>{'label': 4.7, 'real-label': 4.666666666666667...</td>\n",
              "    </tr>\n",
              "    <tr>\n",
              "      <th>1715</th>\n",
              "      <td>klue-sts-v1_train_01715</td>\n",
              "      <td>airbnb-rtt</td>\n",
              "      <td>택시타고 공항갔을 때 20유로로 15분내에 도착했었어요.</td>\n",
              "      <td>택시를 타고 공항에 갔을 때, 15분만에 20유로에 도착했습니다.</td>\n",
              "      <td>{'label': 4.7, 'real-label': 4.666666666666667...</td>\n",
              "      <td>{'agreement': '0:0:0:0:2:4', 'annotators': ['1...</td>\n",
              "      <td>{'label': 4.7, 'real-label': 4.666666666666667...</td>\n",
              "    </tr>\n",
              "    <tr>\n",
              "      <th>3872</th>\n",
              "      <td>klue-sts-v1_train_03872</td>\n",
              "      <td>policy-rtt</td>\n",
              "      <td>제2차 전략회의에서 대전, 경기, 강원, 전남, 제주, 경남 등 6개 시·도지사는 ...</td>\n",
              "      <td>제2차 전략회의에서 대전, 경기, 강원, 전남, 제주, 경남 등 6개 시·도지사가 ...</td>\n",
              "      <td>{'label': 4.9, 'real-label': 4.857142857142857...</td>\n",
              "      <td>{'agreement': '0:0:0:0:1:6', 'annotators': ['1...</td>\n",
              "      <td>{'label': 4.9, 'real-label': 4.857142857142857...</td>\n",
              "    </tr>\n",
              "    <tr>\n",
              "      <th>5139</th>\n",
              "      <td>klue-sts-v1_train_05139</td>\n",
              "      <td>policy-rtt</td>\n",
              "      <td>지난달 하루 평균 수출액이 전년대비 5.6% 증가한 가운데 자동차는 2017년 11...</td>\n",
              "      <td>지난 달 평균 일일 수출액이 전년 동월대비 5.6% 증가하면서, 자동차의 수출은 2...</td>\n",
              "      <td>{'label': 4.6, 'real-label': 4.571428571428571...</td>\n",
              "      <td>{'agreement': '0:0:0:0:3:4', 'annotators': ['0...</td>\n",
              "      <td>{'label': 4.6, 'real-label': 4.571428571428571...</td>\n",
              "    </tr>\n",
              "    <tr>\n",
              "      <th>5292</th>\n",
              "      <td>klue-sts-v1_train_05292</td>\n",
              "      <td>policy-rtt</td>\n",
              "      <td>제2차 전략회의에서 대전, 경기, 강원, 전남, 제주, 경남 등 6개 시·도지사는 ...</td>\n",
              "      <td>제2차 전략회의에서 대전, 경기, 강원, 전남, 제주, 경남 등 6개 시·도지사가 ...</td>\n",
              "      <td>{'label': 4.7, 'real-label': 4.714285714285714...</td>\n",
              "      <td>{'agreement': '0:0:0:0:2:5', 'annotators': ['0...</td>\n",
              "      <td>{'label': 4.7, 'real-label': 4.714285714285714...</td>\n",
              "    </tr>\n",
              "    <tr>\n",
              "      <th>7045</th>\n",
              "      <td>klue-sts-v1_train_07045</td>\n",
              "      <td>policy-rtt</td>\n",
              "      <td>지난달 하루 평균 수출액이 전년대비 5.6% 증가한 가운데 자동차는 2017년 11...</td>\n",
              "      <td>지난 달 평균 일일 수출액이 전년 동월대비 5.6% 증가하면서, 자동차의 수출은 2...</td>\n",
              "      <td>{'label': 4.0, 'real-label': 4.0, 'binary-labe...</td>\n",
              "      <td>{'agreement': '0:0:0:1:5:1', 'annotators': ['1...</td>\n",
              "      <td>{'label': 4.0, 'real-label': 4.0, 'binary-labe...</td>\n",
              "    </tr>\n",
              "    <tr>\n",
              "      <th>10908</th>\n",
              "      <td>klue-sts-v1_train_10908</td>\n",
              "      <td>policy-rtt</td>\n",
              "      <td>지난달 하루 평균 수출액이 전년대비 5.6% 증가한 가운데 자동차는 2017년 11...</td>\n",
              "      <td>지난 달 평균 일일 수출액이 전년 동월대비 5.6% 증가하면서, 자동차의 수출은 2...</td>\n",
              "      <td>{'label': 4.0, 'real-label': 4.0, 'binary-labe...</td>\n",
              "      <td>{'agreement': '0:0:0:1:5:1', 'annotators': ['1...</td>\n",
              "      <td>{'label': 4.0, 'real-label': 4.0, 'binary-labe...</td>\n",
              "    </tr>\n",
              "    <tr>\n",
              "      <th>10939</th>\n",
              "      <td>klue-sts-v1_train_10939</td>\n",
              "      <td>policy-rtt</td>\n",
              "      <td>지난달 하루 평균 수출액이 전년대비 5.6% 증가한 가운데 자동차는 2017년 11...</td>\n",
              "      <td>지난 달 평균 일일 수출액이 전년 동월대비 5.6% 증가하면서, 자동차의 수출은 2...</td>\n",
              "      <td>{'label': 4.6, 'real-label': 4.571428571428571...</td>\n",
              "      <td>{'agreement': '0:0:0:0:3:4', 'annotators': ['0...</td>\n",
              "      <td>{'label': 4.6, 'real-label': 4.571428571428571...</td>\n",
              "    </tr>\n",
              "    <tr>\n",
              "      <th>11112</th>\n",
              "      <td>klue-sts-v1_train_11112</td>\n",
              "      <td>policy-rtt</td>\n",
              "      <td>제2차 전략회의에서 대전, 경기, 강원, 전남, 제주, 경남 등 6개 시·도지사는 ...</td>\n",
              "      <td>제2차 전략회의에서 대전, 경기, 강원, 전남, 제주, 경남 등 6개 시·도지사가 ...</td>\n",
              "      <td>{'label': 4.9, 'real-label': 4.857142857142857...</td>\n",
              "      <td>{'agreement': '0:0:0:0:1:6', 'annotators': ['1...</td>\n",
              "      <td>{'label': 4.9, 'real-label': 4.857142857142857...</td>\n",
              "    </tr>\n",
              "  </tbody>\n",
              "</table>\n",
              "</div>\n",
              "      <button class=\"colab-df-convert\" onclick=\"convertToInteractive('df-f2126fc5-c785-479f-80ae-49bcf0535859')\"\n",
              "              title=\"Convert this dataframe to an interactive table.\"\n",
              "              style=\"display:none;\">\n",
              "        \n",
              "  <svg xmlns=\"http://www.w3.org/2000/svg\" height=\"24px\"viewBox=\"0 0 24 24\"\n",
              "       width=\"24px\">\n",
              "    <path d=\"M0 0h24v24H0V0z\" fill=\"none\"/>\n",
              "    <path d=\"M18.56 5.44l.94 2.06.94-2.06 2.06-.94-2.06-.94-.94-2.06-.94 2.06-2.06.94zm-11 1L8.5 8.5l.94-2.06 2.06-.94-2.06-.94L8.5 2.5l-.94 2.06-2.06.94zm10 10l.94 2.06.94-2.06 2.06-.94-2.06-.94-.94-2.06-.94 2.06-2.06.94z\"/><path d=\"M17.41 7.96l-1.37-1.37c-.4-.4-.92-.59-1.43-.59-.52 0-1.04.2-1.43.59L10.3 9.45l-7.72 7.72c-.78.78-.78 2.05 0 2.83L4 21.41c.39.39.9.59 1.41.59.51 0 1.02-.2 1.41-.59l7.78-7.78 2.81-2.81c.8-.78.8-2.07 0-2.86zM5.41 20L4 18.59l7.72-7.72 1.47 1.35L5.41 20z\"/>\n",
              "  </svg>\n",
              "      </button>\n",
              "      \n",
              "  <style>\n",
              "    .colab-df-container {\n",
              "      display:flex;\n",
              "      flex-wrap:wrap;\n",
              "      gap: 12px;\n",
              "    }\n",
              "\n",
              "    .colab-df-convert {\n",
              "      background-color: #E8F0FE;\n",
              "      border: none;\n",
              "      border-radius: 50%;\n",
              "      cursor: pointer;\n",
              "      display: none;\n",
              "      fill: #1967D2;\n",
              "      height: 32px;\n",
              "      padding: 0 0 0 0;\n",
              "      width: 32px;\n",
              "    }\n",
              "\n",
              "    .colab-df-convert:hover {\n",
              "      background-color: #E2EBFA;\n",
              "      box-shadow: 0px 1px 2px rgba(60, 64, 67, 0.3), 0px 1px 3px 1px rgba(60, 64, 67, 0.15);\n",
              "      fill: #174EA6;\n",
              "    }\n",
              "\n",
              "    [theme=dark] .colab-df-convert {\n",
              "      background-color: #3B4455;\n",
              "      fill: #D2E3FC;\n",
              "    }\n",
              "\n",
              "    [theme=dark] .colab-df-convert:hover {\n",
              "      background-color: #434B5C;\n",
              "      box-shadow: 0px 1px 3px 1px rgba(0, 0, 0, 0.15);\n",
              "      filter: drop-shadow(0px 1px 2px rgba(0, 0, 0, 0.3));\n",
              "      fill: #FFFFFF;\n",
              "    }\n",
              "  </style>\n",
              "\n",
              "      <script>\n",
              "        const buttonEl =\n",
              "          document.querySelector('#df-f2126fc5-c785-479f-80ae-49bcf0535859 button.colab-df-convert');\n",
              "        buttonEl.style.display =\n",
              "          google.colab.kernel.accessAllowed ? 'block' : 'none';\n",
              "\n",
              "        async function convertToInteractive(key) {\n",
              "          const element = document.querySelector('#df-f2126fc5-c785-479f-80ae-49bcf0535859');\n",
              "          const dataTable =\n",
              "            await google.colab.kernel.invokeFunction('convertToInteractive',\n",
              "                                                     [key], {});\n",
              "          if (!dataTable) return;\n",
              "\n",
              "          const docLinkHtml = 'Like what you see? Visit the ' +\n",
              "            '<a target=\"_blank\" href=https://colab.research.google.com/notebooks/data_table.ipynb>data table notebook</a>'\n",
              "            + ' to learn more about interactive tables.';\n",
              "          element.innerHTML = '';\n",
              "          dataTable['output_type'] = 'display_data';\n",
              "          await google.colab.output.renderOutput(dataTable, element);\n",
              "          const docLink = document.createElement('div');\n",
              "          docLink.innerHTML = docLinkHtml;\n",
              "          element.appendChild(docLink);\n",
              "        }\n",
              "      </script>\n",
              "    </div>\n",
              "  </div>\n",
              "  "
            ]
          },
          "metadata": {},
          "execution_count": 10
        }
      ]
    },
    {
      "cell_type": "code",
      "source": [
        "train_df = train_df.drop_duplicates(['sentence1','sentence2','labels_str'], keep='first', ignore_index=True)"
      ],
      "metadata": {
        "id": "p_6HbMAfyZMc"
      },
      "execution_count": 11,
      "outputs": []
    },
    {
      "cell_type": "code",
      "source": [
        "# 확인\n",
        "train_df.duplicated(['sentence1', 'sentence2','labels_str']).sum()"
      ],
      "metadata": {
        "colab": {
          "base_uri": "https://localhost:8080/"
        },
        "id": "e57gcmQEycig",
        "outputId": "1e098e70-4de3-4ab8-d0fe-6ed4b43e47ee"
      },
      "execution_count": 12,
      "outputs": [
        {
          "output_type": "execute_result",
          "data": {
            "text/plain": [
              "0"
            ]
          },
          "metadata": {},
          "execution_count": 12
        }
      ]
    },
    {
      "cell_type": "code",
      "source": [
        "# 확인\n",
        "dev_df.duplicated(['sentence1','sentence2']).sum()"
      ],
      "metadata": {
        "colab": {
          "base_uri": "https://localhost:8080/"
        },
        "id": "_CnerIJnys0d",
        "outputId": "8fc958d8-5ee8-457f-e3ce-b9ba045c9c18"
      },
      "execution_count": 13,
      "outputs": [
        {
          "output_type": "execute_result",
          "data": {
            "text/plain": [
              "0"
            ]
          },
          "metadata": {},
          "execution_count": 13
        }
      ]
    },
    {
      "cell_type": "code",
      "source": [
        "#f1 score로 메트릭 정할 경우 binary\n",
        "#pearson으로 할경우 [0,5]\n",
        "\n",
        "train_df['binary'] = [train_df['labels'][i]['binary-label'] for i in range(len(train_df))]\n",
        "train_df['label'] = [train_df['labels'][i]['real-label'] for i in range(len(train_df))]"
      ],
      "metadata": {
        "id": "IO57M2UKZ6ix"
      },
      "execution_count": 14,
      "outputs": []
    },
    {
      "cell_type": "code",
      "source": [
        "train_df.head()"
      ],
      "metadata": {
        "colab": {
          "base_uri": "https://localhost:8080/",
          "height": 0
        },
        "id": "oqK58sn4dl3d",
        "outputId": "44db9c1b-f183-496c-a366-2e53b540626b"
      },
      "execution_count": 15,
      "outputs": [
        {
          "output_type": "execute_result",
          "data": {
            "text/plain": [
              "                      guid           source  \\\n",
              "0  klue-sts-v1_train_00000       airbnb-rtt   \n",
              "1  klue-sts-v1_train_00001   policy-sampled   \n",
              "2  klue-sts-v1_train_00002  paraKQC-sampled   \n",
              "3  klue-sts-v1_train_00003   policy-sampled   \n",
              "4  klue-sts-v1_train_00004       airbnb-rtt   \n",
              "\n",
              "                                           sentence1  \\\n",
              "0                   숙소 위치는 찾기 쉽고 일반적인 한국의 반지하 숙소입니다.   \n",
              "1      위반행위 조사 등을 거부·방해·기피한 자는 500만원 이하 과태료 부과 대상이다.   \n",
              "2            회사가 보낸 메일은 이 지메일이 아니라 다른 지메일 계정으로 전달해줘.   \n",
              "3  긴급 고용안정지원금은 지역고용대응 등 특별지원금, 지자체별 소상공인 지원사업, 취업...   \n",
              "4                        호스트의 답장이 늦으나, 개선될 것으로 보입니다.   \n",
              "\n",
              "                                    sentence2  \\\n",
              "0  숙박시설의 위치는 쉽게 찾을 수 있고 한국의 대표적인 반지하 숙박시설입니다.   \n",
              "1       시민들 스스로 자발적인 예방 노력을 한 것은 아산 뿐만이 아니었다.   \n",
              "2                  사람들이 주로 네이버 메일을 쓰는 이유를 알려줘   \n",
              "3   고용보험이 1차 고용안전망이라면, 국민취업지원제도는 2차 고용안전망입니다.   \n",
              "4                  호스트 응답이 늦었지만 개선될 것으로 보입니다.   \n",
              "\n",
              "                                              labels  \\\n",
              "0  {'label': 3.7, 'real-label': 3.714285714285714...   \n",
              "1  {'label': 0.0, 'real-label': 0.0, 'binary-labe...   \n",
              "2  {'label': 0.30000000000000004, 'real-label': 0...   \n",
              "3  {'label': 0.6000000000000001, 'real-label': 0....   \n",
              "4  {'label': 4.7, 'real-label': 4.714285714285714...   \n",
              "\n",
              "                                         annotations  \\\n",
              "0  {'agreement': '0:0:0:2:5:0', 'annotators': ['0...   \n",
              "1  {'agreement': '5:0:0:0:0:0', 'annotators': ['1...   \n",
              "2  {'agreement': '4:2:0:0:0:0', 'annotators': ['1...   \n",
              "3  {'agreement': '4:2:1:0:0:0', 'annotators': ['1...   \n",
              "4  {'agreement': '0:0:0:0:2:5', 'annotators': ['1...   \n",
              "\n",
              "                                          labels_str  binary     label  \n",
              "0  {'label': 3.7, 'real-label': 3.714285714285714...       1  3.714286  \n",
              "1  {'label': 0.0, 'real-label': 0.0, 'binary-labe...       0  0.000000  \n",
              "2  {'label': 0.30000000000000004, 'real-label': 0...       0  0.333333  \n",
              "3  {'label': 0.6000000000000001, 'real-label': 0....       0  0.571429  \n",
              "4  {'label': 4.7, 'real-label': 4.714285714285714...       1  4.714286  "
            ],
            "text/html": [
              "\n",
              "  <div id=\"df-7877fd65-337e-4ce3-bb14-5627cb4084c6\">\n",
              "    <div class=\"colab-df-container\">\n",
              "      <div>\n",
              "<style scoped>\n",
              "    .dataframe tbody tr th:only-of-type {\n",
              "        vertical-align: middle;\n",
              "    }\n",
              "\n",
              "    .dataframe tbody tr th {\n",
              "        vertical-align: top;\n",
              "    }\n",
              "\n",
              "    .dataframe thead th {\n",
              "        text-align: right;\n",
              "    }\n",
              "</style>\n",
              "<table border=\"1\" class=\"dataframe\">\n",
              "  <thead>\n",
              "    <tr style=\"text-align: right;\">\n",
              "      <th></th>\n",
              "      <th>guid</th>\n",
              "      <th>source</th>\n",
              "      <th>sentence1</th>\n",
              "      <th>sentence2</th>\n",
              "      <th>labels</th>\n",
              "      <th>annotations</th>\n",
              "      <th>labels_str</th>\n",
              "      <th>binary</th>\n",
              "      <th>label</th>\n",
              "    </tr>\n",
              "  </thead>\n",
              "  <tbody>\n",
              "    <tr>\n",
              "      <th>0</th>\n",
              "      <td>klue-sts-v1_train_00000</td>\n",
              "      <td>airbnb-rtt</td>\n",
              "      <td>숙소 위치는 찾기 쉽고 일반적인 한국의 반지하 숙소입니다.</td>\n",
              "      <td>숙박시설의 위치는 쉽게 찾을 수 있고 한국의 대표적인 반지하 숙박시설입니다.</td>\n",
              "      <td>{'label': 3.7, 'real-label': 3.714285714285714...</td>\n",
              "      <td>{'agreement': '0:0:0:2:5:0', 'annotators': ['0...</td>\n",
              "      <td>{'label': 3.7, 'real-label': 3.714285714285714...</td>\n",
              "      <td>1</td>\n",
              "      <td>3.714286</td>\n",
              "    </tr>\n",
              "    <tr>\n",
              "      <th>1</th>\n",
              "      <td>klue-sts-v1_train_00001</td>\n",
              "      <td>policy-sampled</td>\n",
              "      <td>위반행위 조사 등을 거부·방해·기피한 자는 500만원 이하 과태료 부과 대상이다.</td>\n",
              "      <td>시민들 스스로 자발적인 예방 노력을 한 것은 아산 뿐만이 아니었다.</td>\n",
              "      <td>{'label': 0.0, 'real-label': 0.0, 'binary-labe...</td>\n",
              "      <td>{'agreement': '5:0:0:0:0:0', 'annotators': ['1...</td>\n",
              "      <td>{'label': 0.0, 'real-label': 0.0, 'binary-labe...</td>\n",
              "      <td>0</td>\n",
              "      <td>0.000000</td>\n",
              "    </tr>\n",
              "    <tr>\n",
              "      <th>2</th>\n",
              "      <td>klue-sts-v1_train_00002</td>\n",
              "      <td>paraKQC-sampled</td>\n",
              "      <td>회사가 보낸 메일은 이 지메일이 아니라 다른 지메일 계정으로 전달해줘.</td>\n",
              "      <td>사람들이 주로 네이버 메일을 쓰는 이유를 알려줘</td>\n",
              "      <td>{'label': 0.30000000000000004, 'real-label': 0...</td>\n",
              "      <td>{'agreement': '4:2:0:0:0:0', 'annotators': ['1...</td>\n",
              "      <td>{'label': 0.30000000000000004, 'real-label': 0...</td>\n",
              "      <td>0</td>\n",
              "      <td>0.333333</td>\n",
              "    </tr>\n",
              "    <tr>\n",
              "      <th>3</th>\n",
              "      <td>klue-sts-v1_train_00003</td>\n",
              "      <td>policy-sampled</td>\n",
              "      <td>긴급 고용안정지원금은 지역고용대응 등 특별지원금, 지자체별 소상공인 지원사업, 취업...</td>\n",
              "      <td>고용보험이 1차 고용안전망이라면, 국민취업지원제도는 2차 고용안전망입니다.</td>\n",
              "      <td>{'label': 0.6000000000000001, 'real-label': 0....</td>\n",
              "      <td>{'agreement': '4:2:1:0:0:0', 'annotators': ['1...</td>\n",
              "      <td>{'label': 0.6000000000000001, 'real-label': 0....</td>\n",
              "      <td>0</td>\n",
              "      <td>0.571429</td>\n",
              "    </tr>\n",
              "    <tr>\n",
              "      <th>4</th>\n",
              "      <td>klue-sts-v1_train_00004</td>\n",
              "      <td>airbnb-rtt</td>\n",
              "      <td>호스트의 답장이 늦으나, 개선될 것으로 보입니다.</td>\n",
              "      <td>호스트 응답이 늦었지만 개선될 것으로 보입니다.</td>\n",
              "      <td>{'label': 4.7, 'real-label': 4.714285714285714...</td>\n",
              "      <td>{'agreement': '0:0:0:0:2:5', 'annotators': ['1...</td>\n",
              "      <td>{'label': 4.7, 'real-label': 4.714285714285714...</td>\n",
              "      <td>1</td>\n",
              "      <td>4.714286</td>\n",
              "    </tr>\n",
              "  </tbody>\n",
              "</table>\n",
              "</div>\n",
              "      <button class=\"colab-df-convert\" onclick=\"convertToInteractive('df-7877fd65-337e-4ce3-bb14-5627cb4084c6')\"\n",
              "              title=\"Convert this dataframe to an interactive table.\"\n",
              "              style=\"display:none;\">\n",
              "        \n",
              "  <svg xmlns=\"http://www.w3.org/2000/svg\" height=\"24px\"viewBox=\"0 0 24 24\"\n",
              "       width=\"24px\">\n",
              "    <path d=\"M0 0h24v24H0V0z\" fill=\"none\"/>\n",
              "    <path d=\"M18.56 5.44l.94 2.06.94-2.06 2.06-.94-2.06-.94-.94-2.06-.94 2.06-2.06.94zm-11 1L8.5 8.5l.94-2.06 2.06-.94-2.06-.94L8.5 2.5l-.94 2.06-2.06.94zm10 10l.94 2.06.94-2.06 2.06-.94-2.06-.94-.94-2.06-.94 2.06-2.06.94z\"/><path d=\"M17.41 7.96l-1.37-1.37c-.4-.4-.92-.59-1.43-.59-.52 0-1.04.2-1.43.59L10.3 9.45l-7.72 7.72c-.78.78-.78 2.05 0 2.83L4 21.41c.39.39.9.59 1.41.59.51 0 1.02-.2 1.41-.59l7.78-7.78 2.81-2.81c.8-.78.8-2.07 0-2.86zM5.41 20L4 18.59l7.72-7.72 1.47 1.35L5.41 20z\"/>\n",
              "  </svg>\n",
              "      </button>\n",
              "      \n",
              "  <style>\n",
              "    .colab-df-container {\n",
              "      display:flex;\n",
              "      flex-wrap:wrap;\n",
              "      gap: 12px;\n",
              "    }\n",
              "\n",
              "    .colab-df-convert {\n",
              "      background-color: #E8F0FE;\n",
              "      border: none;\n",
              "      border-radius: 50%;\n",
              "      cursor: pointer;\n",
              "      display: none;\n",
              "      fill: #1967D2;\n",
              "      height: 32px;\n",
              "      padding: 0 0 0 0;\n",
              "      width: 32px;\n",
              "    }\n",
              "\n",
              "    .colab-df-convert:hover {\n",
              "      background-color: #E2EBFA;\n",
              "      box-shadow: 0px 1px 2px rgba(60, 64, 67, 0.3), 0px 1px 3px 1px rgba(60, 64, 67, 0.15);\n",
              "      fill: #174EA6;\n",
              "    }\n",
              "\n",
              "    [theme=dark] .colab-df-convert {\n",
              "      background-color: #3B4455;\n",
              "      fill: #D2E3FC;\n",
              "    }\n",
              "\n",
              "    [theme=dark] .colab-df-convert:hover {\n",
              "      background-color: #434B5C;\n",
              "      box-shadow: 0px 1px 3px 1px rgba(0, 0, 0, 0.15);\n",
              "      filter: drop-shadow(0px 1px 2px rgba(0, 0, 0, 0.3));\n",
              "      fill: #FFFFFF;\n",
              "    }\n",
              "  </style>\n",
              "\n",
              "      <script>\n",
              "        const buttonEl =\n",
              "          document.querySelector('#df-7877fd65-337e-4ce3-bb14-5627cb4084c6 button.colab-df-convert');\n",
              "        buttonEl.style.display =\n",
              "          google.colab.kernel.accessAllowed ? 'block' : 'none';\n",
              "\n",
              "        async function convertToInteractive(key) {\n",
              "          const element = document.querySelector('#df-7877fd65-337e-4ce3-bb14-5627cb4084c6');\n",
              "          const dataTable =\n",
              "            await google.colab.kernel.invokeFunction('convertToInteractive',\n",
              "                                                     [key], {});\n",
              "          if (!dataTable) return;\n",
              "\n",
              "          const docLinkHtml = 'Like what you see? Visit the ' +\n",
              "            '<a target=\"_blank\" href=https://colab.research.google.com/notebooks/data_table.ipynb>data table notebook</a>'\n",
              "            + ' to learn more about interactive tables.';\n",
              "          element.innerHTML = '';\n",
              "          dataTable['output_type'] = 'display_data';\n",
              "          await google.colab.output.renderOutput(dataTable, element);\n",
              "          const docLink = document.createElement('div');\n",
              "          docLink.innerHTML = docLinkHtml;\n",
              "          element.appendChild(docLink);\n",
              "        }\n",
              "      </script>\n",
              "    </div>\n",
              "  </div>\n",
              "  "
            ]
          },
          "metadata": {},
          "execution_count": 15
        }
      ]
    },
    {
      "cell_type": "markdown",
      "source": [
        "### 시각화"
      ],
      "metadata": {
        "id": "pF6s5aZrEHaP"
      }
    },
    {
      "cell_type": "code",
      "source": [
        "import seaborn as sns"
      ],
      "metadata": {
        "id": "CbIEFPezEHHk"
      },
      "execution_count": null,
      "outputs": []
    },
    {
      "cell_type": "code",
      "source": [
        "CountStatus = pd.value_counts(train_df['binary'].values, sort=True)\n",
        "CountStatus.plot.bar()\n",
        "CountStatus.plot.bar(grid=True, figsize=(10,8), fontsize=15);"
      ],
      "metadata": {
        "colab": {
          "base_uri": "https://localhost:8080/",
          "height": 482
        },
        "id": "WOYkM61yEL5E",
        "outputId": "5adb6b1a-f022-4864-a0a4-c63701380047"
      },
      "execution_count": null,
      "outputs": [
        {
          "output_type": "display_data",
          "data": {
            "text/plain": [
              "<Figure size 720x576 with 1 Axes>"
            ],
            "image/png": "[encoded data removed]"
          },
          "metadata": {
            "needs_background": "light"
          }
        }
      ]
    },
    {
      "cell_type": "code",
      "source": [
        "train_df['binary'].value_counts().plot.bar(grid=True);"
      ],
      "metadata": {
        "colab": {
          "base_uri": "https://localhost:8080/",
          "height": 262
        },
        "id": "dTpDq7yEEknG",
        "outputId": "d542f918-c3b4-42f6-c7ff-1be9b6094939"
      },
      "execution_count": null,
      "outputs": [
        {
          "output_type": "display_data",
          "data": {
            "text/plain": [
              "<Figure size 432x288 with 1 Axes>"
            ],
            "image/png": "[encoded data removed]"
          },
          "metadata": {
            "needs_background": "light"
          }
        }
      ]
    },
    {
      "cell_type": "code",
      "source": [
        "train_df['label'].plot.hist(alpha=0.5);"
      ],
      "metadata": {
        "colab": {
          "base_uri": "https://localhost:8080/",
          "height": 265
        },
        "id": "mJYokDQ0FyEd",
        "outputId": "c30ab46f-9664-43a2-ba98-f22ba1e0232a"
      },
      "execution_count": null,
      "outputs": [
        {
          "output_type": "display_data",
          "data": {
            "text/plain": [
              "<Figure size 432x288 with 1 Axes>"
            ],
            "image/png": "[encoded data removed]"
          },
          "metadata": {
            "needs_background": "light"
          }
        }
      ]
    },
    {
      "cell_type": "markdown",
      "source": [
        "### 1-1. 띄어쓰기, 맞춤법 오류?\n",
        "에어비앤비 리뷰는 맞춤법 오류가 많을 수 있음. "
      ],
      "metadata": {
        "id": "a4erGKhYlRVj"
      }
    },
    {
      "cell_type": "code",
      "source": [
        "#pyKoSpace로 띄어쓰기\n",
        "!pip install git+https://github.com/haven-jeon/PyKoSpacing.git"
      ],
      "metadata": {
        "id": "-f_THEB2lEl2",
        "colab": {
          "base_uri": "https://localhost:8080/"
        },
        "outputId": "059889f6-d208-493e-ae08-21872f953fb8"
      },
      "execution_count": null,
      "outputs": [
        {
          "output_type": "stream",
          "name": "stdout",
          "text": [
            "Collecting git+https://github.com/haven-jeon/PyKoSpacing.git\n",
            "  Cloning https://github.com/haven-jeon/PyKoSpacing.git to /tmp/pip-req-build-0spv2lz4\n",
            "  Running command git clone -q https://github.com/haven-jeon/PyKoSpacing.git /tmp/pip-req-build-0spv2lz4\n",
            "Collecting tensorflow==2.5.3\n",
            "  Downloading tensorflow-2.5.3-cp37-cp37m-manylinux2010_x86_64.whl (460.3 MB)\n",
            "\u001b[K     |███████▉                        | 112.6 MB 19.0 MB/s eta 0:00:19\n",
            "\u001b[31mERROR: Operation cancelled by user\u001b[0m\n",
            "\u001b[?25h"
          ]
        }
      ]
    },
    {
      "cell_type": "code",
      "source": [
        "from pykospacing import Spacing\n",
        "spacing = Spacing()"
      ],
      "metadata": {
        "id": "ny-bo4TClyen",
        "colab": {
          "base_uri": "https://localhost:8080/",
          "height": 330
        },
        "outputId": "74e76329-32d1-4bb1-a92d-25451b938d1d"
      },
      "execution_count": null,
      "outputs": [
        {
          "output_type": "error",
          "ename": "ModuleNotFoundError",
          "evalue": "ignored",
          "traceback": [
            "\u001b[0;31m---------------------------------------------------------------------------\u001b[0m",
            "\u001b[0;31mModuleNotFoundError\u001b[0m                       Traceback (most recent call last)",
            "\u001b[0;32m<ipython-input-87-1f350f9b0ff1>\u001b[0m in \u001b[0;36m<module>\u001b[0;34m()\u001b[0m\n\u001b[0;32m----> 1\u001b[0;31m \u001b[0;32mfrom\u001b[0m \u001b[0mpykospacing\u001b[0m \u001b[0;32mimport\u001b[0m \u001b[0mSpacing\u001b[0m\u001b[0;34m\u001b[0m\u001b[0;34m\u001b[0m\u001b[0m\n\u001b[0m\u001b[1;32m      2\u001b[0m \u001b[0mspacing\u001b[0m \u001b[0;34m=\u001b[0m \u001b[0mSpacing\u001b[0m\u001b[0;34m(\u001b[0m\u001b[0;34m)\u001b[0m\u001b[0;34m\u001b[0m\u001b[0;34m\u001b[0m\u001b[0m\n",
            "\u001b[0;31mModuleNotFoundError\u001b[0m: No module named 'pykospacing'",
            "",
            "\u001b[0;31m---------------------------------------------------------------------------\u001b[0;32m\nNOTE: If your import is failing due to a missing package, you can\nmanually install dependencies using either !pip or !apt.\n\nTo view examples of installing some common dependencies, click the\n\"Open Examples\" button below.\n\u001b[0;31m---------------------------------------------------------------------------\u001b[0m\n"
          ],
          "errorDetails": {
            "actions": [
              {
                "action": "open_url",
                "actionText": "Open Examples",
                "url": "/notebooks/snippets/importing_libraries.ipynb"
              }
            ]
          }
        }
      ]
    },
    {
      "cell_type": "code",
      "source": [
        "#train_df['sentence1'].apply(spacing)"
      ],
      "metadata": {
        "id": "F40TApxbs-f8"
      },
      "execution_count": null,
      "outputs": []
    },
    {
      "cell_type": "code",
      "source": [
        "# 돌려봤는데, 얼추 봐선 띄어쓰기가 오히려 의미를 해칠 수도 있다고 판단되어 일단 저장만 해놓는걸로\n",
        "train_df['sentence1']"
      ],
      "metadata": {
        "id": "jvYVYlzLyvpq"
      },
      "execution_count": null,
      "outputs": []
    },
    {
      "cell_type": "code",
      "source": [
        "# 맞춤법 오류\n",
        "!pip install git+https://github.com/ssut/py-hanspell.git\n"
      ],
      "metadata": {
        "id": "tSj_l0bm6kHY"
      },
      "execution_count": null,
      "outputs": []
    },
    {
      "cell_type": "code",
      "source": [
        "from hanspell import spell_checker\n",
        "result = spell_checker.check(u'안녕 하세요. 저는 한국인 입니다. 이문장은 한글로 작성됬습니다.')\n",
        "result.as_dict()['checked']"
      ],
      "metadata": {
        "id": "do7wIMHp8IyK"
      },
      "execution_count": null,
      "outputs": []
    },
    {
      "cell_type": "code",
      "source": [
        "# 30분 걸림. 안하는게 나음\n",
        "#sentence1\n",
        "checked_lst = []\n",
        "for i in range(len(train_df)):\n",
        "  checked = spell_checker.check(train_df['sentence1'][i]).as_dict()['checked']\n",
        "  checked_lst.append(checked)"
      ],
      "metadata": {
        "id": "F8GBR05S9C7d"
      },
      "execution_count": null,
      "outputs": []
    },
    {
      "cell_type": "code",
      "source": [
        "# 특수문자 때문에 에러가 발생해서 일단 특문 클렌징 진행\n",
        "temp = spell_checker.check(train_df['sentence2'][1308]).as_dict()"
      ],
      "metadata": {
        "id": "uLc_-G1PYUTo"
      },
      "execution_count": null,
      "outputs": []
    },
    {
      "cell_type": "code",
      "source": [
        "def special_cleansing(text):\n",
        "    text = re.sub('[-=+#/\\:^$@*\\\"※~&%ㆍ』\\\\‘〈〉|\\(\\)\\[\\]\\<\\>`\\'…》《]','', text)\n",
        "    return text"
      ],
      "metadata": {
        "id": "suRIvYEeZQ1Y"
      },
      "execution_count": null,
      "outputs": []
    },
    {
      "cell_type": "code",
      "source": [
        "train_df['sentence2'] = train_df['sentence2'].apply(special_cleansing)"
      ],
      "metadata": {
        "id": "Dl3H12K-Zakk"
      },
      "execution_count": null,
      "outputs": []
    },
    {
      "cell_type": "code",
      "source": [
        "train_df['sentence2'][1308]"
      ],
      "metadata": {
        "id": "U5ZR40g1YX_n"
      },
      "execution_count": null,
      "outputs": []
    },
    {
      "cell_type": "code",
      "source": [
        "#sentence2\n",
        "checked_lst2 = []\n",
        "temp_lst = []\n",
        "for i in range(len(train_df)):\n",
        "  temp = spell_checker.check(train_df['sentence2'][i]).as_dict()\n",
        "  checked = temp['checked']\n",
        "  err = temp['errors']\n",
        "  checked_lst2.append(checked)\n",
        "  temp_lst.append(err)"
      ],
      "metadata": {
        "id": "YtDIPiVlNGiI"
      },
      "execution_count": null,
      "outputs": []
    },
    {
      "cell_type": "code",
      "source": [
        "import numpy as np\n",
        "np.mean(temp_lst)\n",
        "#평균 0.56개의 맞춤법 에러 > 1개도 안고침;"
      ],
      "metadata": {
        "id": "vneUPEyIWVZd"
      },
      "execution_count": null,
      "outputs": []
    },
    {
      "cell_type": "code",
      "source": [
        "train_df['spell_checked1'] = checked_lst\n",
        "train_df['spell_checked2'] = checked_lst2\n",
        "train_df.head()"
      ],
      "metadata": {
        "id": "hTzAVV4QNkRz"
      },
      "execution_count": null,
      "outputs": []
    },
    {
      "cell_type": "markdown",
      "source": [
        "### 1-2 숫자,영어,특문 제거\n",
        "\n",
        " 별도로 불용어를 제거하지말고 토큰화 단계에서 조사, 접속사를 제거하자.\n",
        "\n",
        "\n"
      ],
      "metadata": {
        "id": "z_BgJuExjD3y"
      }
    },
    {
      "cell_type": "code",
      "source": [
        "# 영어, 일본어, 한자, 특수문자 제거 (숫자 남겨두기)\n",
        "def cleansing(text):\n",
        "    text = re.sub('a-zA-Z一-龥㐀-䶵豈-龎[-=+,#/\\?:^$.@*\\\"※~&%ㆍ·!』\\\\‘〈〉|\\(\\)\\[\\]\\<\\>`\\'…》《]','', text)\n",
        "    return text"
      ],
      "metadata": {
        "id": "jo7yqOrWeCsK"
      },
      "execution_count": 16,
      "outputs": []
    },
    {
      "cell_type": "code",
      "source": [
        "train_df['cleansed'] = train_df['sentence1'].apply(cleansing)\n",
        "train_df['cleansed2'] = train_df['sentence2'].apply(cleansing)"
      ],
      "metadata": {
        "id": "1Ed9x1MajnHz"
      },
      "execution_count": 17,
      "outputs": []
    },
    {
      "cell_type": "code",
      "source": [
        "train_df.head()"
      ],
      "metadata": {
        "colab": {
          "base_uri": "https://localhost:8080/",
          "height": 684
        },
        "id": "VJAzzbOVjr1r",
        "outputId": "32eaa1c9-f38d-4bba-cd29-e29e355d6909"
      },
      "execution_count": 18,
      "outputs": [
        {
          "output_type": "execute_result",
          "data": {
            "text/plain": [
              "                      guid           source  \\\n",
              "0  klue-sts-v1_train_00000       airbnb-rtt   \n",
              "1  klue-sts-v1_train_00001   policy-sampled   \n",
              "2  klue-sts-v1_train_00002  paraKQC-sampled   \n",
              "3  klue-sts-v1_train_00003   policy-sampled   \n",
              "4  klue-sts-v1_train_00004       airbnb-rtt   \n",
              "\n",
              "                                           sentence1  \\\n",
              "0                   숙소 위치는 찾기 쉽고 일반적인 한국의 반지하 숙소입니다.   \n",
              "1      위반행위 조사 등을 거부·방해·기피한 자는 500만원 이하 과태료 부과 대상이다.   \n",
              "2            회사가 보낸 메일은 이 지메일이 아니라 다른 지메일 계정으로 전달해줘.   \n",
              "3  긴급 고용안정지원금은 지역고용대응 등 특별지원금, 지자체별 소상공인 지원사업, 취업...   \n",
              "4                        호스트의 답장이 늦으나, 개선될 것으로 보입니다.   \n",
              "\n",
              "                                    sentence2  \\\n",
              "0  숙박시설의 위치는 쉽게 찾을 수 있고 한국의 대표적인 반지하 숙박시설입니다.   \n",
              "1       시민들 스스로 자발적인 예방 노력을 한 것은 아산 뿐만이 아니었다.   \n",
              "2                  사람들이 주로 네이버 메일을 쓰는 이유를 알려줘   \n",
              "3   고용보험이 1차 고용안전망이라면, 국민취업지원제도는 2차 고용안전망입니다.   \n",
              "4                  호스트 응답이 늦었지만 개선될 것으로 보입니다.   \n",
              "\n",
              "                                              labels  \\\n",
              "0  {'label': 3.7, 'real-label': 3.714285714285714...   \n",
              "1  {'label': 0.0, 'real-label': 0.0, 'binary-labe...   \n",
              "2  {'label': 0.30000000000000004, 'real-label': 0...   \n",
              "3  {'label': 0.6000000000000001, 'real-label': 0....   \n",
              "4  {'label': 4.7, 'real-label': 4.714285714285714...   \n",
              "\n",
              "                                         annotations  \\\n",
              "0  {'agreement': '0:0:0:2:5:0', 'annotators': ['0...   \n",
              "1  {'agreement': '5:0:0:0:0:0', 'annotators': ['1...   \n",
              "2  {'agreement': '4:2:0:0:0:0', 'annotators': ['1...   \n",
              "3  {'agreement': '4:2:1:0:0:0', 'annotators': ['1...   \n",
              "4  {'agreement': '0:0:0:0:2:5', 'annotators': ['1...   \n",
              "\n",
              "                                          labels_str  binary     label  \\\n",
              "0  {'label': 3.7, 'real-label': 3.714285714285714...       1  3.714286   \n",
              "1  {'label': 0.0, 'real-label': 0.0, 'binary-labe...       0  0.000000   \n",
              "2  {'label': 0.30000000000000004, 'real-label': 0...       0  0.333333   \n",
              "3  {'label': 0.6000000000000001, 'real-label': 0....       0  0.571429   \n",
              "4  {'label': 4.7, 'real-label': 4.714285714285714...       1  4.714286   \n",
              "\n",
              "                                            cleansed  \\\n",
              "0                   숙소 위치는 찾기 쉽고 일반적인 한국의 반지하 숙소입니다.   \n",
              "1      위반행위 조사 등을 거부·방해·기피한 자는 500만원 이하 과태료 부과 대상이다.   \n",
              "2            회사가 보낸 메일은 이 지메일이 아니라 다른 지메일 계정으로 전달해줘.   \n",
              "3  긴급 고용안정지원금은 지역고용대응 등 특별지원금, 지자체별 소상공인 지원사업, 취업...   \n",
              "4                        호스트의 답장이 늦으나, 개선될 것으로 보입니다.   \n",
              "\n",
              "                                    cleansed2  \n",
              "0  숙박시설의 위치는 쉽게 찾을 수 있고 한국의 대표적인 반지하 숙박시설입니다.  \n",
              "1       시민들 스스로 자발적인 예방 노력을 한 것은 아산 뿐만이 아니었다.  \n",
              "2                  사람들이 주로 네이버 메일을 쓰는 이유를 알려줘  \n",
              "3   고용보험이 1차 고용안전망이라면, 국민취업지원제도는 2차 고용안전망입니다.  \n",
              "4                  호스트 응답이 늦었지만 개선될 것으로 보입니다.  "
            ],
            "text/html": [
              "\n",
              "  <div id=\"df-12a919dd-d100-4a6d-ae5b-13f43241b513\">\n",
              "    <div class=\"colab-df-container\">\n",
              "      <div>\n",
              "<style scoped>\n",
              "    .dataframe tbody tr th:only-of-type {\n",
              "        vertical-align: middle;\n",
              "    }\n",
              "\n",
              "    .dataframe tbody tr th {\n",
              "        vertical-align: top;\n",
              "    }\n",
              "\n",
              "    .dataframe thead th {\n",
              "        text-align: right;\n",
              "    }\n",
              "</style>\n",
              "<table border=\"1\" class=\"dataframe\">\n",
              "  <thead>\n",
              "    <tr style=\"text-align: right;\">\n",
              "      <th></th>\n",
              "      <th>guid</th>\n",
              "      <th>source</th>\n",
              "      <th>sentence1</th>\n",
              "      <th>sentence2</th>\n",
              "      <th>labels</th>\n",
              "      <th>annotations</th>\n",
              "      <th>labels_str</th>\n",
              "      <th>binary</th>\n",
              "      <th>label</th>\n",
              "      <th>cleansed</th>\n",
              "      <th>cleansed2</th>\n",
              "    </tr>\n",
              "  </thead>\n",
              "  <tbody>\n",
              "    <tr>\n",
              "      <th>0</th>\n",
              "      <td>klue-sts-v1_train_00000</td>\n",
              "      <td>airbnb-rtt</td>\n",
              "      <td>숙소 위치는 찾기 쉽고 일반적인 한국의 반지하 숙소입니다.</td>\n",
              "      <td>숙박시설의 위치는 쉽게 찾을 수 있고 한국의 대표적인 반지하 숙박시설입니다.</td>\n",
              "      <td>{'label': 3.7, 'real-label': 3.714285714285714...</td>\n",
              "      <td>{'agreement': '0:0:0:2:5:0', 'annotators': ['0...</td>\n",
              "      <td>{'label': 3.7, 'real-label': 3.714285714285714...</td>\n",
              "      <td>1</td>\n",
              "      <td>3.714286</td>\n",
              "      <td>숙소 위치는 찾기 쉽고 일반적인 한국의 반지하 숙소입니다.</td>\n",
              "      <td>숙박시설의 위치는 쉽게 찾을 수 있고 한국의 대표적인 반지하 숙박시설입니다.</td>\n",
              "    </tr>\n",
              "    <tr>\n",
              "      <th>1</th>\n",
              "      <td>klue-sts-v1_train_00001</td>\n",
              "      <td>policy-sampled</td>\n",
              "      <td>위반행위 조사 등을 거부·방해·기피한 자는 500만원 이하 과태료 부과 대상이다.</td>\n",
              "      <td>시민들 스스로 자발적인 예방 노력을 한 것은 아산 뿐만이 아니었다.</td>\n",
              "      <td>{'label': 0.0, 'real-label': 0.0, 'binary-labe...</td>\n",
              "      <td>{'agreement': '5:0:0:0:0:0', 'annotators': ['1...</td>\n",
              "      <td>{'label': 0.0, 'real-label': 0.0, 'binary-labe...</td>\n",
              "      <td>0</td>\n",
              "      <td>0.000000</td>\n",
              "      <td>위반행위 조사 등을 거부·방해·기피한 자는 500만원 이하 과태료 부과 대상이다.</td>\n",
              "      <td>시민들 스스로 자발적인 예방 노력을 한 것은 아산 뿐만이 아니었다.</td>\n",
              "    </tr>\n",
              "    <tr>\n",
              "      <th>2</th>\n",
              "      <td>klue-sts-v1_train_00002</td>\n",
              "      <td>paraKQC-sampled</td>\n",
              "      <td>회사가 보낸 메일은 이 지메일이 아니라 다른 지메일 계정으로 전달해줘.</td>\n",
              "      <td>사람들이 주로 네이버 메일을 쓰는 이유를 알려줘</td>\n",
              "      <td>{'label': 0.30000000000000004, 'real-label': 0...</td>\n",
              "      <td>{'agreement': '4:2:0:0:0:0', 'annotators': ['1...</td>\n",
              "      <td>{'label': 0.30000000000000004, 'real-label': 0...</td>\n",
              "      <td>0</td>\n",
              "      <td>0.333333</td>\n",
              "      <td>회사가 보낸 메일은 이 지메일이 아니라 다른 지메일 계정으로 전달해줘.</td>\n",
              "      <td>사람들이 주로 네이버 메일을 쓰는 이유를 알려줘</td>\n",
              "    </tr>\n",
              "    <tr>\n",
              "      <th>3</th>\n",
              "      <td>klue-sts-v1_train_00003</td>\n",
              "      <td>policy-sampled</td>\n",
              "      <td>긴급 고용안정지원금은 지역고용대응 등 특별지원금, 지자체별 소상공인 지원사업, 취업...</td>\n",
              "      <td>고용보험이 1차 고용안전망이라면, 국민취업지원제도는 2차 고용안전망입니다.</td>\n",
              "      <td>{'label': 0.6000000000000001, 'real-label': 0....</td>\n",
              "      <td>{'agreement': '4:2:1:0:0:0', 'annotators': ['1...</td>\n",
              "      <td>{'label': 0.6000000000000001, 'real-label': 0....</td>\n",
              "      <td>0</td>\n",
              "      <td>0.571429</td>\n",
              "      <td>긴급 고용안정지원금은 지역고용대응 등 특별지원금, 지자체별 소상공인 지원사업, 취업...</td>\n",
              "      <td>고용보험이 1차 고용안전망이라면, 국민취업지원제도는 2차 고용안전망입니다.</td>\n",
              "    </tr>\n",
              "    <tr>\n",
              "      <th>4</th>\n",
              "      <td>klue-sts-v1_train_00004</td>\n",
              "      <td>airbnb-rtt</td>\n",
              "      <td>호스트의 답장이 늦으나, 개선될 것으로 보입니다.</td>\n",
              "      <td>호스트 응답이 늦었지만 개선될 것으로 보입니다.</td>\n",
              "      <td>{'label': 4.7, 'real-label': 4.714285714285714...</td>\n",
              "      <td>{'agreement': '0:0:0:0:2:5', 'annotators': ['1...</td>\n",
              "      <td>{'label': 4.7, 'real-label': 4.714285714285714...</td>\n",
              "      <td>1</td>\n",
              "      <td>4.714286</td>\n",
              "      <td>호스트의 답장이 늦으나, 개선될 것으로 보입니다.</td>\n",
              "      <td>호스트 응답이 늦었지만 개선될 것으로 보입니다.</td>\n",
              "    </tr>\n",
              "  </tbody>\n",
              "</table>\n",
              "</div>\n",
              "      <button class=\"colab-df-convert\" onclick=\"convertToInteractive('df-12a919dd-d100-4a6d-ae5b-13f43241b513')\"\n",
              "              title=\"Convert this dataframe to an interactive table.\"\n",
              "              style=\"display:none;\">\n",
              "        \n",
              "  <svg xmlns=\"http://www.w3.org/2000/svg\" height=\"24px\"viewBox=\"0 0 24 24\"\n",
              "       width=\"24px\">\n",
              "    <path d=\"M0 0h24v24H0V0z\" fill=\"none\"/>\n",
              "    <path d=\"M18.56 5.44l.94 2.06.94-2.06 2.06-.94-2.06-.94-.94-2.06-.94 2.06-2.06.94zm-11 1L8.5 8.5l.94-2.06 2.06-.94-2.06-.94L8.5 2.5l-.94 2.06-2.06.94zm10 10l.94 2.06.94-2.06 2.06-.94-2.06-.94-.94-2.06-.94 2.06-2.06.94z\"/><path d=\"M17.41 7.96l-1.37-1.37c-.4-.4-.92-.59-1.43-.59-.52 0-1.04.2-1.43.59L10.3 9.45l-7.72 7.72c-.78.78-.78 2.05 0 2.83L4 21.41c.39.39.9.59 1.41.59.51 0 1.02-.2 1.41-.59l7.78-7.78 2.81-2.81c.8-.78.8-2.07 0-2.86zM5.41 20L4 18.59l7.72-7.72 1.47 1.35L5.41 20z\"/>\n",
              "  </svg>\n",
              "      </button>\n",
              "      \n",
              "  <style>\n",
              "    .colab-df-container {\n",
              "      display:flex;\n",
              "      flex-wrap:wrap;\n",
              "      gap: 12px;\n",
              "    }\n",
              "\n",
              "    .colab-df-convert {\n",
              "      background-color: #E8F0FE;\n",
              "      border: none;\n",
              "      border-radius: 50%;\n",
              "      cursor: pointer;\n",
              "      display: none;\n",
              "      fill: #1967D2;\n",
              "      height: 32px;\n",
              "      padding: 0 0 0 0;\n",
              "      width: 32px;\n",
              "    }\n",
              "\n",
              "    .colab-df-convert:hover {\n",
              "      background-color: #E2EBFA;\n",
              "      box-shadow: 0px 1px 2px rgba(60, 64, 67, 0.3), 0px 1px 3px 1px rgba(60, 64, 67, 0.15);\n",
              "      fill: #174EA6;\n",
              "    }\n",
              "\n",
              "    [theme=dark] .colab-df-convert {\n",
              "      background-color: #3B4455;\n",
              "      fill: #D2E3FC;\n",
              "    }\n",
              "\n",
              "    [theme=dark] .colab-df-convert:hover {\n",
              "      background-color: #434B5C;\n",
              "      box-shadow: 0px 1px 3px 1px rgba(0, 0, 0, 0.15);\n",
              "      filter: drop-shadow(0px 1px 2px rgba(0, 0, 0, 0.3));\n",
              "      fill: #FFFFFF;\n",
              "    }\n",
              "  </style>\n",
              "\n",
              "      <script>\n",
              "        const buttonEl =\n",
              "          document.querySelector('#df-12a919dd-d100-4a6d-ae5b-13f43241b513 button.colab-df-convert');\n",
              "        buttonEl.style.display =\n",
              "          google.colab.kernel.accessAllowed ? 'block' : 'none';\n",
              "\n",
              "        async function convertToInteractive(key) {\n",
              "          const element = document.querySelector('#df-12a919dd-d100-4a6d-ae5b-13f43241b513');\n",
              "          const dataTable =\n",
              "            await google.colab.kernel.invokeFunction('convertToInteractive',\n",
              "                                                     [key], {});\n",
              "          if (!dataTable) return;\n",
              "\n",
              "          const docLinkHtml = 'Like what you see? Visit the ' +\n",
              "            '<a target=\"_blank\" href=https://colab.research.google.com/notebooks/data_table.ipynb>data table notebook</a>'\n",
              "            + ' to learn more about interactive tables.';\n",
              "          element.innerHTML = '';\n",
              "          dataTable['output_type'] = 'display_data';\n",
              "          await google.colab.output.renderOutput(dataTable, element);\n",
              "          const docLink = document.createElement('div');\n",
              "          docLink.innerHTML = docLinkHtml;\n",
              "          element.appendChild(docLink);\n",
              "        }\n",
              "      </script>\n",
              "    </div>\n",
              "  </div>\n",
              "  "
            ]
          },
          "metadata": {},
          "execution_count": 18
        }
      ]
    },
    {
      "cell_type": "code",
      "source": [
        "dev_df['cleansed'] = dev_df['sentence1'].apply(cleansing)\n",
        "dev_df['cleansed2'] = dev_df['sentence2'].apply(cleansing)"
      ],
      "metadata": {
        "id": "cBm9Qn6tzz_3"
      },
      "execution_count": 19,
      "outputs": []
    },
    {
      "cell_type": "code",
      "source": [
        "train_df.sample()"
      ],
      "metadata": {
        "colab": {
          "base_uri": "https://localhost:8080/",
          "height": 194
        },
        "id": "B2ooseLjUec9",
        "outputId": "88beb9fb-21c3-4d5a-eca4-1a79c4976427"
      },
      "execution_count": 70,
      "outputs": [
        {
          "output_type": "execute_result",
          "data": {
            "text/plain": [
              "                        guid        source  \\\n",
              "234  klue-sts-v1_train_00234  paraKQC-para   \n",
              "\n",
              "                              sentence1  \\\n",
              "234  너가 추천해줄 수 있는 가장 효과적인 거실 청소 방법은 뭐야?   \n",
              "\n",
              "                                    sentence2  \\\n",
              "234  너가 생각하긴 거실을 가장 효과적으로 청소하려면 어떻게 해야될 것 같아?   \n",
              "\n",
              "                                                labels  \\\n",
              "234  {'label': 3.6, 'real-label': 3.571428571428572...   \n",
              "\n",
              "                                           annotations  \\\n",
              "234  {'agreement': '0:0:0:3:4:0', 'annotators': ['0...   \n",
              "\n",
              "                                            labels_str  binary     label  \\\n",
              "234  {'label': 3.6, 'real-label': 3.571428571428572...       1  3.571429   \n",
              "\n",
              "                               cleansed  \\\n",
              "234  너가 추천해줄 수 있는 가장 효과적인 거실 청소 방법은 뭐야?   \n",
              "\n",
              "                                    cleansed2  \n",
              "234  너가 생각하긴 거실을 가장 효과적으로 청소하려면 어떻게 해야될 것 같아?  "
            ],
            "text/html": [
              "\n",
              "  <div id=\"df-568217b1-be6e-4af7-9e15-fcc21a8e2c22\">\n",
              "    <div class=\"colab-df-container\">\n",
              "      <div>\n",
              "<style scoped>\n",
              "    .dataframe tbody tr th:only-of-type {\n",
              "        vertical-align: middle;\n",
              "    }\n",
              "\n",
              "    .dataframe tbody tr th {\n",
              "        vertical-align: top;\n",
              "    }\n",
              "\n",
              "    .dataframe thead th {\n",
              "        text-align: right;\n",
              "    }\n",
              "</style>\n",
              "<table border=\"1\" class=\"dataframe\">\n",
              "  <thead>\n",
              "    <tr style=\"text-align: right;\">\n",
              "      <th></th>\n",
              "      <th>guid</th>\n",
              "      <th>source</th>\n",
              "      <th>sentence1</th>\n",
              "      <th>sentence2</th>\n",
              "      <th>labels</th>\n",
              "      <th>annotations</th>\n",
              "      <th>labels_str</th>\n",
              "      <th>binary</th>\n",
              "      <th>label</th>\n",
              "      <th>cleansed</th>\n",
              "      <th>cleansed2</th>\n",
              "    </tr>\n",
              "  </thead>\n",
              "  <tbody>\n",
              "    <tr>\n",
              "      <th>234</th>\n",
              "      <td>klue-sts-v1_train_00234</td>\n",
              "      <td>paraKQC-para</td>\n",
              "      <td>너가 추천해줄 수 있는 가장 효과적인 거실 청소 방법은 뭐야?</td>\n",
              "      <td>너가 생각하긴 거실을 가장 효과적으로 청소하려면 어떻게 해야될 것 같아?</td>\n",
              "      <td>{'label': 3.6, 'real-label': 3.571428571428572...</td>\n",
              "      <td>{'agreement': '0:0:0:3:4:0', 'annotators': ['0...</td>\n",
              "      <td>{'label': 3.6, 'real-label': 3.571428571428572...</td>\n",
              "      <td>1</td>\n",
              "      <td>3.571429</td>\n",
              "      <td>너가 추천해줄 수 있는 가장 효과적인 거실 청소 방법은 뭐야?</td>\n",
              "      <td>너가 생각하긴 거실을 가장 효과적으로 청소하려면 어떻게 해야될 것 같아?</td>\n",
              "    </tr>\n",
              "  </tbody>\n",
              "</table>\n",
              "</div>\n",
              "      <button class=\"colab-df-convert\" onclick=\"convertToInteractive('df-568217b1-be6e-4af7-9e15-fcc21a8e2c22')\"\n",
              "              title=\"Convert this dataframe to an interactive table.\"\n",
              "              style=\"display:none;\">\n",
              "        \n",
              "  <svg xmlns=\"http://www.w3.org/2000/svg\" height=\"24px\"viewBox=\"0 0 24 24\"\n",
              "       width=\"24px\">\n",
              "    <path d=\"M0 0h24v24H0V0z\" fill=\"none\"/>\n",
              "    <path d=\"M18.56 5.44l.94 2.06.94-2.06 2.06-.94-2.06-.94-.94-2.06-.94 2.06-2.06.94zm-11 1L8.5 8.5l.94-2.06 2.06-.94-2.06-.94L8.5 2.5l-.94 2.06-2.06.94zm10 10l.94 2.06.94-2.06 2.06-.94-2.06-.94-.94-2.06-.94 2.06-2.06.94z\"/><path d=\"M17.41 7.96l-1.37-1.37c-.4-.4-.92-.59-1.43-.59-.52 0-1.04.2-1.43.59L10.3 9.45l-7.72 7.72c-.78.78-.78 2.05 0 2.83L4 21.41c.39.39.9.59 1.41.59.51 0 1.02-.2 1.41-.59l7.78-7.78 2.81-2.81c.8-.78.8-2.07 0-2.86zM5.41 20L4 18.59l7.72-7.72 1.47 1.35L5.41 20z\"/>\n",
              "  </svg>\n",
              "      </button>\n",
              "      \n",
              "  <style>\n",
              "    .colab-df-container {\n",
              "      display:flex;\n",
              "      flex-wrap:wrap;\n",
              "      gap: 12px;\n",
              "    }\n",
              "\n",
              "    .colab-df-convert {\n",
              "      background-color: #E8F0FE;\n",
              "      border: none;\n",
              "      border-radius: 50%;\n",
              "      cursor: pointer;\n",
              "      display: none;\n",
              "      fill: #1967D2;\n",
              "      height: 32px;\n",
              "      padding: 0 0 0 0;\n",
              "      width: 32px;\n",
              "    }\n",
              "\n",
              "    .colab-df-convert:hover {\n",
              "      background-color: #E2EBFA;\n",
              "      box-shadow: 0px 1px 2px rgba(60, 64, 67, 0.3), 0px 1px 3px 1px rgba(60, 64, 67, 0.15);\n",
              "      fill: #174EA6;\n",
              "    }\n",
              "\n",
              "    [theme=dark] .colab-df-convert {\n",
              "      background-color: #3B4455;\n",
              "      fill: #D2E3FC;\n",
              "    }\n",
              "\n",
              "    [theme=dark] .colab-df-convert:hover {\n",
              "      background-color: #434B5C;\n",
              "      box-shadow: 0px 1px 3px 1px rgba(0, 0, 0, 0.15);\n",
              "      filter: drop-shadow(0px 1px 2px rgba(0, 0, 0, 0.3));\n",
              "      fill: #FFFFFF;\n",
              "    }\n",
              "  </style>\n",
              "\n",
              "      <script>\n",
              "        const buttonEl =\n",
              "          document.querySelector('#df-568217b1-be6e-4af7-9e15-fcc21a8e2c22 button.colab-df-convert');\n",
              "        buttonEl.style.display =\n",
              "          google.colab.kernel.accessAllowed ? 'block' : 'none';\n",
              "\n",
              "        async function convertToInteractive(key) {\n",
              "          const element = document.querySelector('#df-568217b1-be6e-4af7-9e15-fcc21a8e2c22');\n",
              "          const dataTable =\n",
              "            await google.colab.kernel.invokeFunction('convertToInteractive',\n",
              "                                                     [key], {});\n",
              "          if (!dataTable) return;\n",
              "\n",
              "          const docLinkHtml = 'Like what you see? Visit the ' +\n",
              "            '<a target=\"_blank\" href=https://colab.research.google.com/notebooks/data_table.ipynb>data table notebook</a>'\n",
              "            + ' to learn more about interactive tables.';\n",
              "          element.innerHTML = '';\n",
              "          dataTable['output_type'] = 'display_data';\n",
              "          await google.colab.output.renderOutput(dataTable, element);\n",
              "          const docLink = document.createElement('div');\n",
              "          docLink.innerHTML = docLinkHtml;\n",
              "          element.appendChild(docLink);\n",
              "        }\n",
              "      </script>\n",
              "    </div>\n",
              "  </div>\n",
              "  "
            ]
          },
          "metadata": {},
          "execution_count": 70
        }
      ]
    },
    {
      "cell_type": "code",
      "source": [
        ""
      ],
      "metadata": {
        "id": "KF0s5CuEUrYz"
      },
      "execution_count": null,
      "outputs": []
    },
    {
      "cell_type": "markdown",
      "source": [
        "#### 1-3 형태소분리(khaiii)\n"
      ],
      "metadata": {
        "id": "KTuxtKjzBW33"
      }
    },
    {
      "cell_type": "code",
      "source": [
        "!git clone https://github.com/kakao/khaiii.git \n",
        "!pip install cmake \n",
        "!mkdir build \n",
        "!cd build && cmake /content/khaiii \n",
        "!cd /content/build/ && make all \n",
        "!cd /content/build/ && make resource \n",
        "!cd /content/build && make install \n",
        "!cd /content/build && make package_python \n",
        "!pip install /content/build/package_python\n"
      ],
      "metadata": {
        "id": "hFwjyVVrBram",
        "colab": {
          "base_uri": "https://localhost:8080/"
        },
        "outputId": "2394c2ca-3c6f-470b-ed9c-09c9f0723d84"
      },
      "execution_count": 20,
      "outputs": [
        {
          "output_type": "stream",
          "name": "stdout",
          "text": [
            "Cloning into 'khaiii'...\n",
            "remote: Enumerating objects: 1024, done.\u001b[K\n",
            "remote: Counting objects: 100% (8/8), done.\u001b[K\n",
            "remote: Compressing objects: 100% (8/8), done.\u001b[K\n",
            "remote: Total 1024 (delta 3), reused 0 (delta 0), pack-reused 1016\u001b[K\n",
            "Receiving objects: 100% (1024/1024), 33.03 MiB | 26.06 MiB/s, done.\n",
            "^C\n",
            "Requirement already satisfied: cmake in /usr/local/lib/python3.7/dist-packages (3.12.0)\n",
            "CMake Error: The source directory \"/content/khaiii\" does not exist.\n",
            "Specify --help for usage, or press the help button on the CMake GUI.\n",
            "make: *** No rule to make target 'all'.  Stop.\n",
            "make: *** No rule to make target 'resource'.  Stop.\n",
            "make: *** No rule to make target 'install'.  Stop.\n",
            "make: *** No rule to make target 'package_python'.  Stop.\n",
            "\u001b[31mERROR: Invalid requirement: '/content/build/package_python'\n",
            "Hint: It looks like a path. File '/content/build/package_python' does not exist.\u001b[0m\n"
          ]
        }
      ]
    },
    {
      "cell_type": "code",
      "source": [
        "from konlpy import tag\n",
        "\n",
        "\n",
        "def tagging(tagger, text):\n",
        "    r = []\n",
        "    try:\n",
        "        r = getattr(tag, tagger)().pos(text)\n",
        "    except Exception as e:\n",
        "        print(\"Uhoh,\", e)\n",
        "    return r\n",
        "\n",
        "kkma = tag.Kkma()\n",
        "print(kkma.morphs(u'공부를 하면할수록 모르는게 많다는 것을 알게 됩니다.'))\n",
        "print(kkma.nouns(u'대학에서 DB, 통계학, 이산수학 등을 배웠지만...'))\n",
        "print(kkma.pos(u'다 까먹어버렸네요?ㅋㅋ'))\n",
        "print(kkma.sentences(u'그래도 계속 공부합니다. 재밌으니까!'))"
      ],
      "metadata": {
        "colab": {
          "base_uri": "https://localhost:8080/"
        },
        "id": "_qRX5GAw08Cm",
        "outputId": "5b35743a-c6a0-4d05-db68-2b2379ede94a"
      },
      "execution_count": 45,
      "outputs": [
        {
          "output_type": "stream",
          "name": "stdout",
          "text": [
            "['공부', '를', '하', '면', '하', 'ㄹ수록', '모르', '는', '것', '이', '많', '다는', '것', '을', '알', '게', '되', 'ㅂ니다', '.']\n",
            "['대학', '통계학', '이산', '이산수학', '수학', '등']\n",
            "[('다', 'MAG'), ('까먹', 'VV'), ('어', 'ECD'), ('버리', 'VXV'), ('었', 'EPT'), ('네요', 'EFN'), ('?', 'SF'), ('ㅋㅋ', 'EMO')]\n",
            "['그래도 계속 공부합니다.', '재밌으니까!']\n"
          ]
        }
      ]
    },
    {
      "cell_type": "code",
      "source": [
        "from khaiii import KhaiiiApi \n",
        "api = KhaiiiApi()"
      ],
      "metadata": {
        "id": "SBvJMXgWFxTp"
      },
      "execution_count": null,
      "outputs": []
    },
    {
      "cell_type": "code",
      "source": [
        "# 조사, 접속사 제거 유무 결정하기\n",
        "# 출처 - https://sy-log.tistory.com/58 (품사리스트)\n",
        "# 의존명사, 주격조사, 보격조사, 관형격조사, 목적격조사, 부사격조사, 호격조사, 인용격조사, 보조사, 접속조사 제거\n",
        "stop_tags = ['NNB', 'JKS','JKC','JKG','JKO','JKB','JKV','JKQ','JX','JC']\n",
        "# 더 제거해보자. 선어말 어미,연결 어미, 명사형 전성 어미, 관형형 전성 어미, 동사 파생 접미사, 형용사 파생 접미사 제거\n",
        "more_stop_tags = ['NNB', 'JKS','JKC','JKG','JKO','JKB','JKV','JKQ','JX','JC',\n",
        "                  'EP','EC','EF','ETN','ETM','XSN','XSV','XSA']"
      ],
      "metadata": {
        "id": "-kfqSxcgK7o0"
      },
      "execution_count": null,
      "outputs": []
    },
    {
      "cell_type": "code",
      "source": [
        "# 예시\n",
        "khaii_lst = []\n",
        "test_sents = train_df['sentence1'][:5]\n",
        "for sent in test_sents:\n",
        "  morph_list = []  \n",
        "  for word in api.analyze(sent):\n",
        "    for morph in word.morphs:\n",
        "      if morph.tag not in more_stop_tags: # 이부분 제외하면 조사+접속사 제거하지 않고 출력\n",
        "        morph_list.append(morph.lex)\n",
        "  text = ' '.join(morph_list)\n",
        "  khaii_lst.append(text)\n",
        "khaii_lst"
      ],
      "metadata": {
        "id": "g6lBANX2F4JH"
      },
      "execution_count": null,
      "outputs": []
    },
    {
      "cell_type": "code",
      "source": [
        "khaii_lst = []\n",
        "test_sents = train_df['cleansed']\n",
        "for sent in test_sents:\n",
        "  morph_list = []  \n",
        "  for word in api.analyze(sent):\n",
        "    for morph in word.morphs:\n",
        "      if morph.tag not in more_stop_tags: # 이부분 제외하면 조사+접속사 제거하지 않고 출력\n",
        "        morph_list.append(morph.lex)\n",
        "  text = ' '.join(morph_list)\n",
        "  khaii_lst.append(text)\n",
        "khaii_lst[:5]"
      ],
      "metadata": {
        "id": "vix-3LhoMkc6"
      },
      "execution_count": null,
      "outputs": []
    },
    {
      "cell_type": "code",
      "source": [
        "khaii_lst = []\n",
        "test_sents = train_df['cleansed']\n",
        "for sent in test_sents:\n",
        "  morph_list = []  \n",
        "  for word in api.analyze(sent):\n",
        "    for morph in word.morphs:\n",
        "        morph_list.append(morph.lex + '/' +morph.tag)\n",
        "  text = ' '.join(morph_list)\n",
        "  khaii_lst.append(text)\n",
        "khaii_lst[:5]"
      ],
      "metadata": {
        "id": "xW042Ck8i_44"
      },
      "execution_count": null,
      "outputs": []
    },
    {
      "cell_type": "code",
      "source": [
        "khaii_lst2 = []\n",
        "test_sents = train_df['cleansed2']\n",
        "for sent in test_sents:\n",
        "  morph_list = []  \n",
        "  for word in api.analyze(sent):\n",
        "    for morph in word.morphs:\n",
        "      if morph.tag not in more_stop_tags: # 이부분 제외하면 조사+접속사 제거하지 않고 출력\n",
        "        morph_list.append(morph.lex)\n",
        "  text = ' '.join(morph_list)\n",
        "  khaii_lst2.append(text)\n",
        "khaii_lst2[-5:]"
      ],
      "metadata": {
        "id": "2RWQmIG3hOQ2"
      },
      "execution_count": null,
      "outputs": []
    },
    {
      "cell_type": "code",
      "source": [
        "train_df['khaii1'] = khaii_lst\n",
        "train_df['khaii2'] = khaii_lst2\n",
        "train_df.head()"
      ],
      "metadata": {
        "id": "9aNpxeO-iGfn"
      },
      "execution_count": null,
      "outputs": []
    },
    {
      "cell_type": "code",
      "source": [
        "# validation도 해주기\n",
        "khaii_lst = []\n",
        "test_sents = dev_df['cleansed']\n",
        "for sent in test_sents:\n",
        "  morph_list = []  \n",
        "  for word in api.analyze(sent):\n",
        "    for morph in word.morphs:\n",
        "      if morph.tag not in more_stop_tags: # 이부분 제외하면 조사+접속사 제거하지 않고 출력\n",
        "        morph_list.append(morph.lex)\n",
        "  text = ' '.join(morph_list)\n",
        "  khaii_lst.append(text)\n",
        "khaii_lst[:5]"
      ],
      "metadata": {
        "id": "8BFH0TWK58WD"
      },
      "execution_count": null,
      "outputs": []
    },
    {
      "cell_type": "code",
      "source": [
        "khaii_lst2 = []\n",
        "test_sents = dev_df['cleansed2']\n",
        "for sent in test_sents:\n",
        "  morph_list = []  \n",
        "  for word in api.analyze(sent):\n",
        "    for morph in word.morphs:\n",
        "      if morph.tag not in more_stop_tags: # 이부분 제외하면 조사+접속사 제거하지 않고 출력\n",
        "        morph_list.append(morph.lex)\n",
        "  text = ' '.join(morph_list)\n",
        "  khaii_lst2.append(text)\n",
        "khaii_lst2[:5]"
      ],
      "metadata": {
        "id": "Ip1ox3_L5zM5"
      },
      "execution_count": null,
      "outputs": []
    },
    {
      "cell_type": "code",
      "source": [
        "dev_df['khaii1'] = khaii_lst\n",
        "dev_df['khaii2'] = khaii_lst2\n",
        "dev_df.head()"
      ],
      "metadata": {
        "id": "tTcUXv-dED9c"
      },
      "execution_count": null,
      "outputs": []
    },
    {
      "cell_type": "code",
      "source": [
        "dev_df['binary'] = [dev_df['labels'][i]['binary-label'] for i in range(len(dev_df))]\n",
        "dev_df['label'] = [dev_df['labels'][i]['real-label'] for i in range(len(dev_df))]"
      ],
      "metadata": {
        "id": "2rlZSZSuEUy_"
      },
      "execution_count": null,
      "outputs": []
    },
    {
      "cell_type": "markdown",
      "source": [
        "고민할 지점\n",
        "1. 형태소 분리 전처리 사용할 것인가? 하지않고 그대로 사전학습 모델 토크나이저 사용할 것인가?\n",
        "2. 형태소 분리 사용한다면 조사 제거할것인가?\n"
      ],
      "metadata": {
        "id": "wvFfgZslOOC9"
      }
    },
    {
      "cell_type": "code",
      "source": [
        "cd drive/MyDrive/data"
      ],
      "metadata": {
        "id": "PdsFMoSIisCI"
      },
      "execution_count": null,
      "outputs": []
    },
    {
      "cell_type": "code",
      "source": [
        "train_df.to_csv('klue_sts_preprocessed.csv', index=False)"
      ],
      "metadata": {
        "id": "CBndA--kiTJO"
      },
      "execution_count": null,
      "outputs": []
    },
    {
      "cell_type": "code",
      "source": [
        "dev_df.to_csv('klue_sts_preprocessed_dev.csv', index=False)"
      ],
      "metadata": {
        "id": "6jD-6aFe6YgW"
      },
      "execution_count": null,
      "outputs": []
    },
    {
      "cell_type": "code",
      "source": [
        "len(train_df)"
      ],
      "metadata": {
        "id": "bMbEkSocOsmk"
      },
      "execution_count": null,
      "outputs": []
    },
    {
      "cell_type": "markdown",
      "source": [
        "#### 4. Pororo\n"
      ],
      "metadata": {
        "id": "5nMPEkuToeeQ"
      }
    },
    {
      "cell_type": "code",
      "source": [
        "!pip install pororo"
      ],
      "metadata": {
        "id": "sITXbBKHojJs"
      },
      "execution_count": null,
      "outputs": []
    },
    {
      "cell_type": "code",
      "source": [
        "!pip install torch==1.6"
      ],
      "metadata": {
        "id": "-00mVrX2sIFL"
      },
      "execution_count": null,
      "outputs": []
    },
    {
      "cell_type": "code",
      "source": [
        "torch.__version__"
      ],
      "metadata": {
        "id": "TUAJjJ8QsVd4"
      },
      "execution_count": null,
      "outputs": []
    },
    {
      "cell_type": "code",
      "source": [
        "from pororo import Pororo"
      ],
      "metadata": {
        "id": "Oegy2XCvpTZ1"
      },
      "execution_count": null,
      "outputs": []
    },
    {
      "cell_type": "code",
      "source": [
        "!pip install python-mecab-ko"
      ],
      "metadata": {
        "id": "BJ766UxNvApU"
      },
      "execution_count": null,
      "outputs": []
    },
    {
      "cell_type": "code",
      "source": [
        "Pororo.available_models('sts')"
      ],
      "metadata": {
        "id": "h99eaTwKsvTd"
      },
      "execution_count": null,
      "outputs": []
    },
    {
      "cell_type": "code",
      "source": [
        "pos = Pororo(task='pos',lang='ko')"
      ],
      "metadata": {
        "id": "RkSzL7ENs75b"
      },
      "execution_count": null,
      "outputs": []
    },
    {
      "cell_type": "code",
      "source": [
        "pos(\"숙소 위치는 찾기 쉽고 일반적인 한국의 반지하 숙소입니다.\")"
      ],
      "metadata": {
        "id": "6HpZakMVtMLS"
      },
      "execution_count": null,
      "outputs": []
    },
    {
      "cell_type": "code",
      "source": [
        ""
      ],
      "metadata": {
        "id": "ilzeWQQLv5kW"
      },
      "execution_count": null,
      "outputs": []
    },
    {
      "cell_type": "markdown",
      "source": [
        "#### 센텐스피스\n"
      ],
      "metadata": {
        "id": "qcCWA8jgBTD6"
      }
    },
    {
      "cell_type": "code",
      "source": [
        "!pip install sentencepiece"
      ],
      "metadata": {
        "id": "cIogocqa2eI9"
      },
      "execution_count": null,
      "outputs": []
    },
    {
      "cell_type": "code",
      "source": [
        "import sentencepiece as spm\n",
        "import csv"
      ],
      "metadata": {
        "id": "dpxPWwP72e49"
      },
      "execution_count": null,
      "outputs": []
    },
    {
      "cell_type": "code",
      "source": [
        "cd '/content/drive/MyDrive/data/klue-sts-v1.1'"
      ],
      "metadata": {
        "id": "7oFHG8bO3y_A"
      },
      "execution_count": null,
      "outputs": []
    },
    {
      "cell_type": "code",
      "source": [
        "with open('klue_review.txt', 'w', encoding='utf8') as f:\n",
        "    f.write('\\n'.join(train_df['sentence1']))"
      ],
      "metadata": {
        "id": "yHP1Ra2E4ilW"
      },
      "execution_count": null,
      "outputs": []
    },
    {
      "cell_type": "code",
      "source": [
        "spm.SentencePieceTrainer.Train('--input=klue_review.txt \\\n",
        "--model_prefix=klue --vocab_size=5000 --model_type=bpe --max_sentence_length=9999')"
      ],
      "metadata": {
        "id": "GgPX7GvQ2r4z"
      },
      "execution_count": null,
      "outputs": []
    },
    {
      "cell_type": "code",
      "source": [
        "vocab_lst = pd.read_csv('klue.vocab', sep='\\t', header=None, quoting=csv.QUOTE_NONE)\n",
        "vocab_lst[:10]"
      ],
      "metadata": {
        "id": "wDLMOzcw4C6h"
      },
      "execution_count": null,
      "outputs": []
    },
    {
      "cell_type": "code",
      "source": [
        "vocab_lst.sample(10)"
      ],
      "metadata": {
        "id": "u0nME4GP4ONK"
      },
      "execution_count": null,
      "outputs": []
    },
    {
      "cell_type": "code",
      "source": [
        "sp = spm.SentencePieceProcessor()\n",
        "vocab_file = \"klue.model\"\n",
        "sp.load(vocab_file)"
      ],
      "metadata": {
        "id": "ZgImpgW84Zlv"
      },
      "execution_count": null,
      "outputs": []
    },
    {
      "cell_type": "code",
      "source": [
        "lines = [\n",
        "  \"숙소 위치는 찾기 쉽고 일반적인 한국의 반지하 숙소입니다.\",\n",
        "  \"호스트 응답이 늦었지만 개선될 것으로 보입니다\",\n",
        "]\n",
        "for line in lines:\n",
        "  print(line)\n",
        "  print(' '.join(sp.encode_as_pieces(line)))\n",
        "  print(sp.encode_as_ids(line))\n",
        "  print()"
      ],
      "metadata": {
        "id": "lyO6mxUt47e1"
      },
      "execution_count": null,
      "outputs": []
    },
    {
      "cell_type": "markdown",
      "source": [
        "### 5. KEDA"
      ],
      "metadata": {
        "id": "jaezFwy1wFqx"
      }
    },
    {
      "cell_type": "code",
      "source": [
        "!git clone https://github.com/catSirup/KorEDA.git"
      ],
      "metadata": {
        "colab": {
          "base_uri": "https://localhost:8080/"
        },
        "id": "CngZOfUtwHUw",
        "outputId": "2eedffca-71aa-4639-cced-e842e94ff81f"
      },
      "execution_count": null,
      "outputs": [
        {
          "output_type": "stream",
          "name": "stdout",
          "text": [
            "Cloning into 'KorEDA'...\n",
            "remote: Enumerating objects: 19, done.\u001b[K\n",
            "remote: Counting objects: 100% (19/19), done.\u001b[K\n",
            "remote: Compressing objects: 100% (18/18), done.\u001b[K\n",
            "remote: Total 19 (delta 7), reused 0 (delta 0), pack-reused 0\u001b[K\n",
            "Unpacking objects: 100% (19/19), done.\n"
          ]
        }
      ]
    },
    {
      "cell_type": "code",
      "source": [
        "cd KorEDA"
      ],
      "metadata": {
        "colab": {
          "base_uri": "https://localhost:8080/"
        },
        "id": "h95p6wmqxQDw",
        "outputId": "8899bffa-61a7-4521-c9e9-f2250254647f"
      },
      "execution_count": null,
      "outputs": [
        {
          "output_type": "stream",
          "name": "stdout",
          "text": [
            "/content/KorEDA/KorEDA\n"
          ]
        }
      ]
    },
    {
      "cell_type": "code",
      "source": [
        "from eda import *"
      ],
      "metadata": {
        "id": "gXNvd9Bnw8pO"
      },
      "execution_count": null,
      "outputs": []
    },
    {
      "cell_type": "code",
      "source": [
        "EDA(\"숙소 위치는 찾기 쉽고 일반적인 한국의 반지하 숙소입니다.\", num_aug=6)"
      ],
      "metadata": {
        "colab": {
          "base_uri": "https://localhost:8080/"
        },
        "id": "MVdGeoSfy5-Y",
        "outputId": "73804c1f-a203-497d-ff7a-64c0131dbed7"
      },
      "execution_count": null,
      "outputs": [
        {
          "output_type": "execute_result",
          "data": {
            "text/plain": [
              "['소 위치는 찾기 쉽고 일반적인 한국의 반지하 숙소입니다.',\n",
              " '숙소 위치는 찾기 쉽고 일반적인 한국의 반지하 숙소입니다.',\n",
              " '숙소 위치는 찾기 한국의 일반적인 쉽고 반지하 숙소입니다.',\n",
              " '소 위치는 찾기 쉽고 일반적인 한국의 반지하 숙소입니다.',\n",
              " '숙소 위치는 찾기 쉽고 일반적인 한국의 반지하 숙소입니다.',\n",
              " '숙소 찾기 위치는 쉽고 일반적인 한국의 반지하 숙소입니다.',\n",
              " '숙소 위치는 찾기 쉽고 일반적인 한국의 반지하 숙소입니다.']"
            ]
          },
          "metadata": {},
          "execution_count": 66
        }
      ]
    },
    {
      "cell_type": "code",
      "source": [
        "def rm_duplicate(x):\n",
        "  return list(dict.fromkeys(x))"
      ],
      "metadata": {
        "id": "rdWD_9rz0s3Z"
      },
      "execution_count": null,
      "outputs": []
    },
    {
      "cell_type": "code",
      "source": [
        "lst = EDA(\"형이 다시 캐나다 들어가야 하니 가족모임 일정은 바꾸지 마세요\", num_aug=6)\n",
        "rm_duplicate(lst)"
      ],
      "metadata": {
        "colab": {
          "base_uri": "https://localhost:8080/"
        },
        "id": "3h2pjO0L0IAo",
        "outputId": "8a94b0a6-7907-4c14-d3d1-3892fa2b3547"
      },
      "execution_count": null,
      "outputs": [
        {
          "output_type": "execute_result",
          "data": {
            "text/plain": [
              "['형이 다시 캐나다 들어가야 하니 가족모임 일정은 바꾸지 마세요',\n",
              " '형이 다시 캐나다 들어가야 하니 바꾸지 마세요',\n",
              " '형이 다시 캐나다 일정은 하니 가족모임 들어가야 바꾸지 마세요',\n",
              " '형이 캐나다 다시 들어가야 하니 가족모임 일정은 바꾸지 마세요']"
            ]
          },
          "metadata": {},
          "execution_count": 73
        }
      ]
    },
    {
      "cell_type": "code",
      "source": [
        "aug = []\n",
        "sents = train_df['cleansed']\n",
        "for x in sents:\n",
        "  lst = rm_duplicate(EDA(x, num_aug=6))\n",
        "  aug.append(lst)\n",
        "aug[-2:]"
      ],
      "metadata": {
        "colab": {
          "base_uri": "https://localhost:8080/"
        },
        "id": "01GBqVM02L9A",
        "outputId": "4d15f7d7-3a91-4ede-c7c9-533be6aac83e"
      },
      "execution_count": null,
      "outputs": [
        {
          "output_type": "execute_result",
          "data": {
            "text/plain": [
              "[['개 1마리 고양이 3마리 너무 귀여워요',\n",
              "  '개 너무 고양이 3마리 1마리 귀여워요',\n",
              "  '개 1마리 이 3마리 너무 귀여워요',\n",
              "  '개 1마리 귀여워요 3마리 너무 고양이'],\n",
              " ['회 홍보 메일은 회신 메일을 보내지마',\n",
              "  '학회 메일을 메일은 회신 홍보 보내지마',\n",
              "  '학회 홍보 메일은 회신 메일을',\n",
              "  '학회 홍보 메일은 회신 메일을 보내지마',\n",
              "  '학회 홍보 메일은 회신 학 메일을 보내지마']]"
            ]
          },
          "metadata": {},
          "execution_count": 153
        }
      ]
    },
    {
      "cell_type": "code",
      "source": [
        "len(train_df)"
      ],
      "metadata": {
        "colab": {
          "base_uri": "https://localhost:8080/"
        },
        "id": "-rGBgAWMi4jh",
        "outputId": "8fe8f33b-7947-4ee1-d7c5-534d826053a1"
      },
      "execution_count": null,
      "outputs": [
        {
          "output_type": "execute_result",
          "data": {
            "text/plain": [
              "11661"
            ]
          },
          "metadata": {},
          "execution_count": 154
        }
      ]
    },
    {
      "cell_type": "code",
      "source": [
        "# 30분 걸림\n",
        "z = len(train_df)\n",
        "for i in range(len(aug)):\n",
        "    for j in range(len(aug[i])):\n",
        "        train_df = train_df.append(train_df.loc[i], ignore_index=True)\n",
        "        z += 1\n",
        "        train_df.loc[z, 'sentence1'] = aug[i][j]"
      ],
      "metadata": {
        "id": "vTeLhy7li3bJ"
      },
      "execution_count": null,
      "outputs": []
    },
    {
      "cell_type": "code",
      "source": [
        "# 11661 > 62723 증가\n",
        "len(train_df)"
      ],
      "metadata": {
        "colab": {
          "base_uri": "https://localhost:8080/"
        },
        "id": "7a8AGm0C1qxG",
        "outputId": "8461fde1-2f05-43b2-a57e-471d8c567777"
      },
      "execution_count": null,
      "outputs": [
        {
          "output_type": "execute_result",
          "data": {
            "text/plain": [
              "62723"
            ]
          },
          "metadata": {},
          "execution_count": 160
        }
      ]
    },
    {
      "cell_type": "code",
      "source": [
        "# duplicated 확인\n",
        "train_df.duplicated(['sentence1', 'sentence2']).sum()"
      ],
      "metadata": {
        "colab": {
          "base_uri": "https://localhost:8080/"
        },
        "id": "CMt954Gqx9y3",
        "outputId": "28c96568-1746-4139-ffc9-9d16ad83f3f8"
      },
      "execution_count": null,
      "outputs": [
        {
          "output_type": "execute_result",
          "data": {
            "text/plain": [
              "1334"
            ]
          },
          "metadata": {},
          "execution_count": 165
        }
      ]
    },
    {
      "cell_type": "code",
      "source": [
        "# 중복 제거 \n",
        "train_df = train_df.drop_duplicates(['sentence1','sentence2'], keep='first', ignore_index=True)"
      ],
      "metadata": {
        "id": "FsfRPmmO1SdP"
      },
      "execution_count": null,
      "outputs": []
    },
    {
      "cell_type": "code",
      "source": [
        "len(train_df)"
      ],
      "metadata": {
        "colab": {
          "base_uri": "https://localhost:8080/"
        },
        "id": "1qk8mt4O6BEM",
        "outputId": "2acfda77-89d1-48ab-8d22-af2bfb4cbe3c"
      },
      "execution_count": null,
      "outputs": [
        {
          "output_type": "execute_result",
          "data": {
            "text/plain": [
              "61389"
            ]
          },
          "metadata": {},
          "execution_count": 170
        }
      ]
    },
    {
      "cell_type": "code",
      "source": [
        "train_df.iloc[12000]"
      ],
      "metadata": {
        "colab": {
          "base_uri": "https://localhost:8080/"
        },
        "id": "smB7TzFFrCRA",
        "outputId": "8ef814e7-68e6-45cb-d7eb-d0bb745126b3"
      },
      "execution_count": null,
      "outputs": [
        {
          "output_type": "execute_result",
          "data": {
            "text/plain": [
              "guid                                     klue-sts-v1_train_00076\n",
              "source                                           paraKQC-sampled\n",
              "sentence1                        토요일 놀러가실건가요 금요일과 언제 중에 골라주시겠습니까\n",
              "sentence2                       올해에 예정되어 있는 연휴들 리스트 각각 언제인지 알려줘.\n",
              "labels         {'label': 0.2, 'real-label': 0.166666666666666...\n",
              "annotations    {'agreement': '5:1:0:0:0:0', 'annotators': ['1...\n",
              "binary                                                       0.0\n",
              "label                                                   0.166667\n",
              "cleansed                         언제 놀러가실건가요 금요일과 토요일 중에 골라주시겠습니까\n",
              "cleansed2                        올해에 예정되어 있는 연휴들 리스트 각각 언제인지 알려줘\n",
              "Name: 12000, dtype: object"
            ]
          },
          "metadata": {},
          "execution_count": 173
        }
      ]
    },
    {
      "cell_type": "code",
      "source": [
        "df.head()"
      ],
      "metadata": {
        "colab": {
          "base_uri": "https://localhost:8080/",
          "height": 773
        },
        "id": "5XVcohP1r1aK",
        "outputId": "04fdcd74-a2df-47c2-f495-45b4f3137632"
      },
      "execution_count": null,
      "outputs": [
        {
          "output_type": "execute_result",
          "data": {
            "text/plain": [
              "                      guid           source  \\\n",
              "0  klue-sts-v1_train_00000       airbnb-rtt   \n",
              "1  klue-sts-v1_train_00001   policy-sampled   \n",
              "2  klue-sts-v1_train_00002  paraKQC-sampled   \n",
              "3  klue-sts-v1_train_00003   policy-sampled   \n",
              "4  klue-sts-v1_train_00004       airbnb-rtt   \n",
              "\n",
              "                                           sentence1  \\\n",
              "0                   숙소 위치는 찾기 쉽고 일반적인 한국의 반지하 숙소입니다.   \n",
              "1      위반행위 조사 등을 거부·방해·기피한 자는 500만원 이하 과태료 부과 대상이다.   \n",
              "2            회사가 보낸 메일은 이 지메일이 아니라 다른 지메일 계정으로 전달해줘.   \n",
              "3  긴급 고용안정지원금은 지역고용대응 등 특별지원금, 지자체별 소상공인 지원사업, 취업...   \n",
              "4                        호스트의 답장이 늦으나, 개선될 것으로 보입니다.   \n",
              "\n",
              "                                    sentence3  \\\n",
              "0  숙박시설의 위치는 쉽게 찾을 수 있고 한국의 대표적인 반지하 숙박시설입니다.   \n",
              "1       시민들 스스로 자발적인 예방 노력을 한 것은 아산 뿐만이 아니었다.   \n",
              "2                  사람들이 주로 네이버 메일을 쓰는 이유를 알려줘   \n",
              "3   고용보험이 1차 고용안전망이라면, 국민취업지원제도는 2차 고용안전망입니다.   \n",
              "4                  호스트 응답이 늦었지만 개선될 것으로 보입니다.   \n",
              "\n",
              "                                              labels  \\\n",
              "0  {'label': 3.7, 'real-label': 3.714285714285714...   \n",
              "1  {'label': 0.0, 'real-label': 0.0, 'binary-labe...   \n",
              "2  {'label': 0.30000000000000004, 'real-label': 0...   \n",
              "3  {'label': 0.6000000000000001, 'real-label': 0....   \n",
              "4  {'label': 4.7, 'real-label': 4.714285714285714...   \n",
              "\n",
              "                                         annotations  binary     label  \\\n",
              "0  {'agreement': '0:0:0:2:5:0', 'annotators': ['0...     1.0  3.714286   \n",
              "1  {'agreement': '5:0:0:0:0:0', 'annotators': ['1...     0.0  0.000000   \n",
              "2  {'agreement': '4:2:0:0:0:0', 'annotators': ['1...     0.0  0.333333   \n",
              "3  {'agreement': '4:2:1:0:0:0', 'annotators': ['1...     0.0  0.571429   \n",
              "4  {'agreement': '0:0:0:0:2:5', 'annotators': ['1...     1.0  4.714286   \n",
              "\n",
              "                                            cleansed  \\\n",
              "0                    숙소 위치는 찾기 쉽고 일반적인 한국의 반지하 숙소입니다   \n",
              "1         위반행위 조사 등을 거부방해기피한 자는 500만원 이하 과태료 부과 대상이다   \n",
              "2             회사가 보낸 메일은 이 지메일이 아니라 다른 지메일 계정으로 전달해줘   \n",
              "3  긴급 고용안정지원금은 지역고용대응 등 특별지원금 지자체별 소상공인 지원사업 취업성공...   \n",
              "4                          호스트의 답장이 늦으나 개선될 것으로 보입니다   \n",
              "\n",
              "                                   cleansed2  \n",
              "0  숙박시설의 위치는 쉽게 찾을 수 있고 한국의 대표적인 반지하 숙박시설입니다  \n",
              "1       시민들 스스로 자발적인 예방 노력을 한 것은 아산 뿐만이 아니었다  \n",
              "2                 사람들이 주로 네이버 메일을 쓰는 이유를 알려줘  \n",
              "3    고용보험이 1차 고용안전망이라면 국민취업지원제도는 2차 고용안전망입니다  \n",
              "4                  호스트 응답이 늦었지만 개선될 것으로 보입니다  "
            ],
            "text/html": [
              "\n",
              "  <div id=\"df-0fa0c219-f62f-48ee-b4ad-9e8e8c00724f\">\n",
              "    <div class=\"colab-df-container\">\n",
              "      <div>\n",
              "<style scoped>\n",
              "    .dataframe tbody tr th:only-of-type {\n",
              "        vertical-align: middle;\n",
              "    }\n",
              "\n",
              "    .dataframe tbody tr th {\n",
              "        vertical-align: top;\n",
              "    }\n",
              "\n",
              "    .dataframe thead th {\n",
              "        text-align: right;\n",
              "    }\n",
              "</style>\n",
              "<table border=\"1\" class=\"dataframe\">\n",
              "  <thead>\n",
              "    <tr style=\"text-align: right;\">\n",
              "      <th></th>\n",
              "      <th>guid</th>\n",
              "      <th>source</th>\n",
              "      <th>sentence1</th>\n",
              "      <th>sentence3</th>\n",
              "      <th>labels</th>\n",
              "      <th>annotations</th>\n",
              "      <th>binary</th>\n",
              "      <th>label</th>\n",
              "      <th>cleansed</th>\n",
              "      <th>cleansed2</th>\n",
              "    </tr>\n",
              "  </thead>\n",
              "  <tbody>\n",
              "    <tr>\n",
              "      <th>0</th>\n",
              "      <td>klue-sts-v1_train_00000</td>\n",
              "      <td>airbnb-rtt</td>\n",
              "      <td>숙소 위치는 찾기 쉽고 일반적인 한국의 반지하 숙소입니다.</td>\n",
              "      <td>숙박시설의 위치는 쉽게 찾을 수 있고 한국의 대표적인 반지하 숙박시설입니다.</td>\n",
              "      <td>{'label': 3.7, 'real-label': 3.714285714285714...</td>\n",
              "      <td>{'agreement': '0:0:0:2:5:0', 'annotators': ['0...</td>\n",
              "      <td>1.0</td>\n",
              "      <td>3.714286</td>\n",
              "      <td>숙소 위치는 찾기 쉽고 일반적인 한국의 반지하 숙소입니다</td>\n",
              "      <td>숙박시설의 위치는 쉽게 찾을 수 있고 한국의 대표적인 반지하 숙박시설입니다</td>\n",
              "    </tr>\n",
              "    <tr>\n",
              "      <th>1</th>\n",
              "      <td>klue-sts-v1_train_00001</td>\n",
              "      <td>policy-sampled</td>\n",
              "      <td>위반행위 조사 등을 거부·방해·기피한 자는 500만원 이하 과태료 부과 대상이다.</td>\n",
              "      <td>시민들 스스로 자발적인 예방 노력을 한 것은 아산 뿐만이 아니었다.</td>\n",
              "      <td>{'label': 0.0, 'real-label': 0.0, 'binary-labe...</td>\n",
              "      <td>{'agreement': '5:0:0:0:0:0', 'annotators': ['1...</td>\n",
              "      <td>0.0</td>\n",
              "      <td>0.000000</td>\n",
              "      <td>위반행위 조사 등을 거부방해기피한 자는 500만원 이하 과태료 부과 대상이다</td>\n",
              "      <td>시민들 스스로 자발적인 예방 노력을 한 것은 아산 뿐만이 아니었다</td>\n",
              "    </tr>\n",
              "    <tr>\n",
              "      <th>2</th>\n",
              "      <td>klue-sts-v1_train_00002</td>\n",
              "      <td>paraKQC-sampled</td>\n",
              "      <td>회사가 보낸 메일은 이 지메일이 아니라 다른 지메일 계정으로 전달해줘.</td>\n",
              "      <td>사람들이 주로 네이버 메일을 쓰는 이유를 알려줘</td>\n",
              "      <td>{'label': 0.30000000000000004, 'real-label': 0...</td>\n",
              "      <td>{'agreement': '4:2:0:0:0:0', 'annotators': ['1...</td>\n",
              "      <td>0.0</td>\n",
              "      <td>0.333333</td>\n",
              "      <td>회사가 보낸 메일은 이 지메일이 아니라 다른 지메일 계정으로 전달해줘</td>\n",
              "      <td>사람들이 주로 네이버 메일을 쓰는 이유를 알려줘</td>\n",
              "    </tr>\n",
              "    <tr>\n",
              "      <th>3</th>\n",
              "      <td>klue-sts-v1_train_00003</td>\n",
              "      <td>policy-sampled</td>\n",
              "      <td>긴급 고용안정지원금은 지역고용대응 등 특별지원금, 지자체별 소상공인 지원사업, 취업...</td>\n",
              "      <td>고용보험이 1차 고용안전망이라면, 국민취업지원제도는 2차 고용안전망입니다.</td>\n",
              "      <td>{'label': 0.6000000000000001, 'real-label': 0....</td>\n",
              "      <td>{'agreement': '4:2:1:0:0:0', 'annotators': ['1...</td>\n",
              "      <td>0.0</td>\n",
              "      <td>0.571429</td>\n",
              "      <td>긴급 고용안정지원금은 지역고용대응 등 특별지원금 지자체별 소상공인 지원사업 취업성공...</td>\n",
              "      <td>고용보험이 1차 고용안전망이라면 국민취업지원제도는 2차 고용안전망입니다</td>\n",
              "    </tr>\n",
              "    <tr>\n",
              "      <th>4</th>\n",
              "      <td>klue-sts-v1_train_00004</td>\n",
              "      <td>airbnb-rtt</td>\n",
              "      <td>호스트의 답장이 늦으나, 개선될 것으로 보입니다.</td>\n",
              "      <td>호스트 응답이 늦었지만 개선될 것으로 보입니다.</td>\n",
              "      <td>{'label': 4.7, 'real-label': 4.714285714285714...</td>\n",
              "      <td>{'agreement': '0:0:0:0:2:5', 'annotators': ['1...</td>\n",
              "      <td>1.0</td>\n",
              "      <td>4.714286</td>\n",
              "      <td>호스트의 답장이 늦으나 개선될 것으로 보입니다</td>\n",
              "      <td>호스트 응답이 늦었지만 개선될 것으로 보입니다</td>\n",
              "    </tr>\n",
              "  </tbody>\n",
              "</table>\n",
              "</div>\n",
              "      <button class=\"colab-df-convert\" onclick=\"convertToInteractive('df-0fa0c219-f62f-48ee-b4ad-9e8e8c00724f')\"\n",
              "              title=\"Convert this dataframe to an interactive table.\"\n",
              "              style=\"display:none;\">\n",
              "        \n",
              "  <svg xmlns=\"http://www.w3.org/2000/svg\" height=\"24px\"viewBox=\"0 0 24 24\"\n",
              "       width=\"24px\">\n",
              "    <path d=\"M0 0h24v24H0V0z\" fill=\"none\"/>\n",
              "    <path d=\"M18.56 5.44l.94 2.06.94-2.06 2.06-.94-2.06-.94-.94-2.06-.94 2.06-2.06.94zm-11 1L8.5 8.5l.94-2.06 2.06-.94-2.06-.94L8.5 2.5l-.94 2.06-2.06.94zm10 10l.94 2.06.94-2.06 2.06-.94-2.06-.94-.94-2.06-.94 2.06-2.06.94z\"/><path d=\"M17.41 7.96l-1.37-1.37c-.4-.4-.92-.59-1.43-.59-.52 0-1.04.2-1.43.59L10.3 9.45l-7.72 7.72c-.78.78-.78 2.05 0 2.83L4 21.41c.39.39.9.59 1.41.59.51 0 1.02-.2 1.41-.59l7.78-7.78 2.81-2.81c.8-.78.8-2.07 0-2.86zM5.41 20L4 18.59l7.72-7.72 1.47 1.35L5.41 20z\"/>\n",
              "  </svg>\n",
              "      </button>\n",
              "      \n",
              "  <style>\n",
              "    .colab-df-container {\n",
              "      display:flex;\n",
              "      flex-wrap:wrap;\n",
              "      gap: 12px;\n",
              "    }\n",
              "\n",
              "    .colab-df-convert {\n",
              "      background-color: #E8F0FE;\n",
              "      border: none;\n",
              "      border-radius: 50%;\n",
              "      cursor: pointer;\n",
              "      display: none;\n",
              "      fill: #1967D2;\n",
              "      height: 32px;\n",
              "      padding: 0 0 0 0;\n",
              "      width: 32px;\n",
              "    }\n",
              "\n",
              "    .colab-df-convert:hover {\n",
              "      background-color: #E2EBFA;\n",
              "      box-shadow: 0px 1px 2px rgba(60, 64, 67, 0.3), 0px 1px 3px 1px rgba(60, 64, 67, 0.15);\n",
              "      fill: #174EA6;\n",
              "    }\n",
              "\n",
              "    [theme=dark] .colab-df-convert {\n",
              "      background-color: #3B4455;\n",
              "      fill: #D2E3FC;\n",
              "    }\n",
              "\n",
              "    [theme=dark] .colab-df-convert:hover {\n",
              "      background-color: #434B5C;\n",
              "      box-shadow: 0px 1px 3px 1px rgba(0, 0, 0, 0.15);\n",
              "      filter: drop-shadow(0px 1px 2px rgba(0, 0, 0, 0.3));\n",
              "      fill: #FFFFFF;\n",
              "    }\n",
              "  </style>\n",
              "\n",
              "      <script>\n",
              "        const buttonEl =\n",
              "          document.querySelector('#df-0fa0c219-f62f-48ee-b4ad-9e8e8c00724f button.colab-df-convert');\n",
              "        buttonEl.style.display =\n",
              "          google.colab.kernel.accessAllowed ? 'block' : 'none';\n",
              "\n",
              "        async function convertToInteractive(key) {\n",
              "          const element = document.querySelector('#df-0fa0c219-f62f-48ee-b4ad-9e8e8c00724f');\n",
              "          const dataTable =\n",
              "            await google.colab.kernel.invokeFunction('convertToInteractive',\n",
              "                                                     [key], {});\n",
              "          if (!dataTable) return;\n",
              "\n",
              "          const docLinkHtml = 'Like what you see? Visit the ' +\n",
              "            '<a target=\"_blank\" href=https://colab.research.google.com/notebooks/data_table.ipynb>data table notebook</a>'\n",
              "            + ' to learn more about interactive tables.';\n",
              "          element.innerHTML = '';\n",
              "          dataTable['output_type'] = 'display_data';\n",
              "          await google.colab.output.renderOutput(dataTable, element);\n",
              "          const docLink = document.createElement('div');\n",
              "          docLink.innerHTML = docLinkHtml;\n",
              "          element.appendChild(docLink);\n",
              "        }\n",
              "      </script>\n",
              "    </div>\n",
              "  </div>\n",
              "  "
            ]
          },
          "metadata": {},
          "execution_count": 176
        }
      ]
    },
    {
      "cell_type": "code",
      "source": [
        "train_df.rename(columns = {'cleansed2' : 'sentence2'}, inplace = True)"
      ],
      "metadata": {
        "colab": {
          "base_uri": "https://localhost:8080/"
        },
        "id": "fUiJo45Trifh",
        "outputId": "5b3470c8-9628-4208-fd88-07c946606ba6"
      },
      "execution_count": null,
      "outputs": [
        {
          "output_type": "stream",
          "name": "stderr",
          "text": [
            "/usr/local/lib/python3.7/dist-packages/pandas/core/frame.py:5047: SettingWithCopyWarning: \n",
            "A value is trying to be set on a copy of a slice from a DataFrame\n",
            "\n",
            "See the caveats in the documentation: https://pandas.pydata.org/pandas-docs/stable/user_guide/indexing.html#returning-a-view-versus-a-copy\n",
            "  errors=errors,\n"
          ]
        }
      ]
    },
    {
      "cell_type": "code",
      "source": [
        "train_df.columns"
      ],
      "metadata": {
        "colab": {
          "base_uri": "https://localhost:8080/"
        },
        "id": "SqRXTVbCsEIU",
        "outputId": "556046dd-d29c-49c0-828d-2e214f691702"
      },
      "execution_count": null,
      "outputs": [
        {
          "output_type": "execute_result",
          "data": {
            "text/plain": [
              "Index(['guid', 'source', 'sentence1', 'delete', 'labels', 'annotations',\n",
              "       'binary', 'label', 'cleansed', 'sentence2'],\n",
              "      dtype='object')"
            ]
          },
          "metadata": {},
          "execution_count": 185
        }
      ]
    },
    {
      "cell_type": "code",
      "source": [
        "column_names = train_df.columns.values\n",
        "column_names[3] = 'delete'\n",
        "train_df.columns = column_names"
      ],
      "metadata": {
        "id": "1oykR2hZswOs"
      },
      "execution_count": null,
      "outputs": []
    },
    {
      "cell_type": "code",
      "source": [
        "cd drive/MyDrive/data"
      ],
      "metadata": {
        "colab": {
          "base_uri": "https://localhost:8080/"
        },
        "id": "_W0899Ja6oY9",
        "outputId": "565ae687-507f-487e-a0e7-07f3e25c64f8"
      },
      "execution_count": null,
      "outputs": [
        {
          "output_type": "stream",
          "name": "stdout",
          "text": [
            "/content/drive/MyDrive/data\n"
          ]
        }
      ]
    },
    {
      "cell_type": "code",
      "source": [
        "train_df[['guid','sentence1','sentence2','labels','label']].to_csv('klue_sts_train_aug.csv', index=False)"
      ],
      "metadata": {
        "id": "3-Mu_5106Ki6"
      },
      "execution_count": null,
      "outputs": []
    },
    {
      "cell_type": "code",
      "source": [
        "pwd"
      ],
      "metadata": {
        "colab": {
          "base_uri": "https://localhost:8080/",
          "height": 36
        },
        "id": "l9_5xQNn6xWD",
        "outputId": "3e90691b-a149-47d2-b475-fbbf4dca6085"
      },
      "execution_count": null,
      "outputs": [
        {
          "output_type": "execute_result",
          "data": {
            "text/plain": [
              "'/content/KorEDA/KorEDA'"
            ],
            "application/vnd.google.colaboratory.intrinsic+json": {
              "type": "string"
            }
          },
          "metadata": {},
          "execution_count": 191
        }
      ]
    },
    {
      "cell_type": "code",
      "source": [
        "dev_df"
      ],
      "metadata": {
        "colab": {
          "base_uri": "https://localhost:8080/",
          "height": 1000
        },
        "id": "i4_YT9WDt3bz",
        "outputId": "0b216fcb-0984-4260-f04b-7e0489a82301"
      },
      "execution_count": null,
      "outputs": [
        {
          "output_type": "execute_result",
          "data": {
            "text/plain": [
              "                      guid          source  \\\n",
              "0    klue-sts-v1_dev_00000      airbnb-rtt   \n",
              "1    klue-sts-v1_dev_00001  airbnb-sampled   \n",
              "2    klue-sts-v1_dev_00002  policy-sampled   \n",
              "3    klue-sts-v1_dev_00003      airbnb-rtt   \n",
              "4    klue-sts-v1_dev_00004    paraKQC-para   \n",
              "..                     ...             ...   \n",
              "514  klue-sts-v1_dev_00514      policy-rtt   \n",
              "515  klue-sts-v1_dev_00515  airbnb-sampled   \n",
              "516  klue-sts-v1_dev_00516  airbnb-sampled   \n",
              "517  klue-sts-v1_dev_00517  policy-sampled   \n",
              "518  klue-sts-v1_dev_00518  airbnb-sampled   \n",
              "\n",
              "                                             sentence1  \\\n",
              "0                             무엇보다도 호스트분들이 너무 친절하셨습니다.   \n",
              "1                               주요 관광지 모두 걸어서 이동가능합니다.   \n",
              "2    학생들의 균형 있는 영어능력을 향상시킬 수 있는 학교 수업을 유도하기 위해 2018...   \n",
              "3                            다만, 도로와 인접해서 거리의 소음이 들려요.   \n",
              "4                  형이 다시 캐나다 들어가야 하니 가족모임 일정은 바꾸지 마세요.   \n",
              "..                                                 ...   \n",
              "514    문체부는 이를 연차적으로 확대, 시행해 학교운동부와 스포츠클럽 간의 연계를 강화한다.   \n",
              "515                        일단 정확한 정보와 빠른 답변이 정말 좋았습니다.   \n",
              "516                         게스트에 대한 배려가 묻어나는 시설들이었습니다.   \n",
              "517                         밤하늘을 배경으로 ‘비대면 드론쇼’도 펼쳐진다.   \n",
              "518                      여느 포르투갈의 비앤비와 같이 엘리베이터는 없습니다.   \n",
              "\n",
              "                                             sentence2  \\\n",
              "0                              무엇보다도, 호스트들은 매우 친절했습니다.   \n",
              "1                          위치는 피렌체 중심가까지 걸어서 이동 가능합니다.   \n",
              "2    영어 영역의 경우 학생들이 한글 해석본을 암기하는 문제를 해소하기 위해 2016학년...   \n",
              "3                   하지만, 길과 가깝기 때문에 거리의 소음을 들을 수 있습니다.   \n",
              "4                              가족 모임 일정은 바꾸지 말도록 하십시오.   \n",
              "..                                                 ...   \n",
              "514  문화체육관광부는 학교스포츠학과와 스포츠클럽의 연계성을 강화하기 위해 매년 이 프로그...   \n",
              "515                      호스트의 빠른 답변과 유용한 정보들이 정말 좋습니다.   \n",
              "516                         우선 공간에 대한 센스가 돋보이는 곳이었습니다.   \n",
              "517                            ‘비대면 실감형 문화공연 플랫폼’ 개념도.   \n",
              "518                     포르투의 거의 모든 숙박 시설은 엘리베이터는 없습니다.   \n",
              "\n",
              "                                                labels  \\\n",
              "0    {'label': 4.9, 'real-label': 4.857142857142857...   \n",
              "1    {'label': 1.4, 'real-label': 1.428571428571429...   \n",
              "2    {'label': 1.3, 'real-label': 1.285714285714286...   \n",
              "3    {'label': 3.7, 'real-label': 3.714285714285714...   \n",
              "4    {'label': 2.5, 'real-label': 2.5, 'binary-labe...   \n",
              "..                                                 ...   \n",
              "514  {'label': 2.2, 'real-label': 2.2, 'binary-labe...   \n",
              "515  {'label': 2.8, 'real-label': 2.833333333333333...   \n",
              "516  {'label': 0.30000000000000004, 'real-label': 0...   \n",
              "517  {'label': 0.30000000000000004, 'real-label': 0...   \n",
              "518  {'label': 2.9, 'real-label': 2.857142857142857...   \n",
              "\n",
              "                                           annotations  \\\n",
              "0    {'agreement': '0:0:0:0:1:6', 'annotators': ['1...   \n",
              "1    {'agreement': '0:4:3:0:0:0', 'annotators': ['1...   \n",
              "2    {'agreement': '0:5:2:0:0:0', 'annotators': ['0...   \n",
              "3    {'agreement': '0:0:0:2:5:0', 'annotators': ['1...   \n",
              "4    {'agreement': '1:0:1:3:1:0', 'annotators': ['0...   \n",
              "..                                                 ...   \n",
              "514  {'agreement': '0:1:2:2:0:0', 'annotators': ['0...   \n",
              "515  {'agreement': '0:0:1:5:0:0', 'annotators': ['0...   \n",
              "516  {'agreement': '4:2:0:0:0:0', 'annotators': ['1...   \n",
              "517  {'agreement': '5:0:1:0:0:0', 'annotators': ['0...   \n",
              "518  {'agreement': '0:0:2:4:1:0', 'annotators': ['0...   \n",
              "\n",
              "                                              cleansed  \\\n",
              "0                              무엇보다도 호스트분들이 너무 친절하셨습니다   \n",
              "1                                주요 관광지 모두 걸어서 이동가능합니다   \n",
              "2    학생들의 균형 있는 영어능력을 향상시킬 수 있는 학교 수업을 유도하기 위해 2018...   \n",
              "3                              다만 도로와 인접해서 거리의 소음이 들려요   \n",
              "4                   형이 다시 캐나다 들어가야 하니 가족모임 일정은 바꾸지 마세요   \n",
              "..                                                 ...   \n",
              "514      문체부는 이를 연차적으로 확대 시행해 학교운동부와 스포츠클럽 간의 연계를 강화한다   \n",
              "515                         일단 정확한 정보와 빠른 답변이 정말 좋았습니다   \n",
              "516                          게스트에 대한 배려가 묻어나는 시설들이었습니다   \n",
              "517                           밤하늘을 배경으로 비대면 드론쇼’도 펼쳐진다   \n",
              "518                       여느 포르투갈의 비앤비와 같이 엘리베이터는 없습니다   \n",
              "\n",
              "                                             cleansed2  \n",
              "0                                무엇보다도 호스트들은 매우 친절했습니다  \n",
              "1                           위치는 피렌체 중심가까지 걸어서 이동 가능합니다  \n",
              "2    영어 영역의 경우 학생들이 한글 해석본을 암기하는 문제를 해소하기 위해 2016학년...  \n",
              "3                     하지만 길과 가깝기 때문에 거리의 소음을 들을 수 있습니다  \n",
              "4                               가족 모임 일정은 바꾸지 말도록 하십시오  \n",
              "..                                                 ...  \n",
              "514  문화체육관광부는 학교스포츠학과와 스포츠클럽의 연계성을 강화하기 위해 매년 이 프로그...  \n",
              "515                       호스트의 빠른 답변과 유용한 정보들이 정말 좋습니다  \n",
              "516                          우선 공간에 대한 센스가 돋보이는 곳이었습니다  \n",
              "517                              비대면 실감형 문화공연 플랫폼’ 개념도  \n",
              "518                      포르투의 거의 모든 숙박 시설은 엘리베이터는 없습니다  \n",
              "\n",
              "[519 rows x 8 columns]"
            ],
            "text/html": [
              "\n",
              "  <div id=\"df-bc02f55c-7390-4f6c-91b1-44afed6b8499\">\n",
              "    <div class=\"colab-df-container\">\n",
              "      <div>\n",
              "<style scoped>\n",
              "    .dataframe tbody tr th:only-of-type {\n",
              "        vertical-align: middle;\n",
              "    }\n",
              "\n",
              "    .dataframe tbody tr th {\n",
              "        vertical-align: top;\n",
              "    }\n",
              "\n",
              "    .dataframe thead th {\n",
              "        text-align: right;\n",
              "    }\n",
              "</style>\n",
              "<table border=\"1\" class=\"dataframe\">\n",
              "  <thead>\n",
              "    <tr style=\"text-align: right;\">\n",
              "      <th></th>\n",
              "      <th>guid</th>\n",
              "      <th>source</th>\n",
              "      <th>sentence1</th>\n",
              "      <th>sentence2</th>\n",
              "      <th>labels</th>\n",
              "      <th>annotations</th>\n",
              "      <th>cleansed</th>\n",
              "      <th>cleansed2</th>\n",
              "    </tr>\n",
              "  </thead>\n",
              "  <tbody>\n",
              "    <tr>\n",
              "      <th>0</th>\n",
              "      <td>klue-sts-v1_dev_00000</td>\n",
              "      <td>airbnb-rtt</td>\n",
              "      <td>무엇보다도 호스트분들이 너무 친절하셨습니다.</td>\n",
              "      <td>무엇보다도, 호스트들은 매우 친절했습니다.</td>\n",
              "      <td>{'label': 4.9, 'real-label': 4.857142857142857...</td>\n",
              "      <td>{'agreement': '0:0:0:0:1:6', 'annotators': ['1...</td>\n",
              "      <td>무엇보다도 호스트분들이 너무 친절하셨습니다</td>\n",
              "      <td>무엇보다도 호스트들은 매우 친절했습니다</td>\n",
              "    </tr>\n",
              "    <tr>\n",
              "      <th>1</th>\n",
              "      <td>klue-sts-v1_dev_00001</td>\n",
              "      <td>airbnb-sampled</td>\n",
              "      <td>주요 관광지 모두 걸어서 이동가능합니다.</td>\n",
              "      <td>위치는 피렌체 중심가까지 걸어서 이동 가능합니다.</td>\n",
              "      <td>{'label': 1.4, 'real-label': 1.428571428571429...</td>\n",
              "      <td>{'agreement': '0:4:3:0:0:0', 'annotators': ['1...</td>\n",
              "      <td>주요 관광지 모두 걸어서 이동가능합니다</td>\n",
              "      <td>위치는 피렌체 중심가까지 걸어서 이동 가능합니다</td>\n",
              "    </tr>\n",
              "    <tr>\n",
              "      <th>2</th>\n",
              "      <td>klue-sts-v1_dev_00002</td>\n",
              "      <td>policy-sampled</td>\n",
              "      <td>학생들의 균형 있는 영어능력을 향상시킬 수 있는 학교 수업을 유도하기 위해 2018...</td>\n",
              "      <td>영어 영역의 경우 학생들이 한글 해석본을 암기하는 문제를 해소하기 위해 2016학년...</td>\n",
              "      <td>{'label': 1.3, 'real-label': 1.285714285714286...</td>\n",
              "      <td>{'agreement': '0:5:2:0:0:0', 'annotators': ['0...</td>\n",
              "      <td>학생들의 균형 있는 영어능력을 향상시킬 수 있는 학교 수업을 유도하기 위해 2018...</td>\n",
              "      <td>영어 영역의 경우 학생들이 한글 해석본을 암기하는 문제를 해소하기 위해 2016학년...</td>\n",
              "    </tr>\n",
              "    <tr>\n",
              "      <th>3</th>\n",
              "      <td>klue-sts-v1_dev_00003</td>\n",
              "      <td>airbnb-rtt</td>\n",
              "      <td>다만, 도로와 인접해서 거리의 소음이 들려요.</td>\n",
              "      <td>하지만, 길과 가깝기 때문에 거리의 소음을 들을 수 있습니다.</td>\n",
              "      <td>{'label': 3.7, 'real-label': 3.714285714285714...</td>\n",
              "      <td>{'agreement': '0:0:0:2:5:0', 'annotators': ['1...</td>\n",
              "      <td>다만 도로와 인접해서 거리의 소음이 들려요</td>\n",
              "      <td>하지만 길과 가깝기 때문에 거리의 소음을 들을 수 있습니다</td>\n",
              "    </tr>\n",
              "    <tr>\n",
              "      <th>4</th>\n",
              "      <td>klue-sts-v1_dev_00004</td>\n",
              "      <td>paraKQC-para</td>\n",
              "      <td>형이 다시 캐나다 들어가야 하니 가족모임 일정은 바꾸지 마세요.</td>\n",
              "      <td>가족 모임 일정은 바꾸지 말도록 하십시오.</td>\n",
              "      <td>{'label': 2.5, 'real-label': 2.5, 'binary-labe...</td>\n",
              "      <td>{'agreement': '1:0:1:3:1:0', 'annotators': ['0...</td>\n",
              "      <td>형이 다시 캐나다 들어가야 하니 가족모임 일정은 바꾸지 마세요</td>\n",
              "      <td>가족 모임 일정은 바꾸지 말도록 하십시오</td>\n",
              "    </tr>\n",
              "    <tr>\n",
              "      <th>...</th>\n",
              "      <td>...</td>\n",
              "      <td>...</td>\n",
              "      <td>...</td>\n",
              "      <td>...</td>\n",
              "      <td>...</td>\n",
              "      <td>...</td>\n",
              "      <td>...</td>\n",
              "      <td>...</td>\n",
              "    </tr>\n",
              "    <tr>\n",
              "      <th>514</th>\n",
              "      <td>klue-sts-v1_dev_00514</td>\n",
              "      <td>policy-rtt</td>\n",
              "      <td>문체부는 이를 연차적으로 확대, 시행해 학교운동부와 스포츠클럽 간의 연계를 강화한다.</td>\n",
              "      <td>문화체육관광부는 학교스포츠학과와 스포츠클럽의 연계성을 강화하기 위해 매년 이 프로그...</td>\n",
              "      <td>{'label': 2.2, 'real-label': 2.2, 'binary-labe...</td>\n",
              "      <td>{'agreement': '0:1:2:2:0:0', 'annotators': ['0...</td>\n",
              "      <td>문체부는 이를 연차적으로 확대 시행해 학교운동부와 스포츠클럽 간의 연계를 강화한다</td>\n",
              "      <td>문화체육관광부는 학교스포츠학과와 스포츠클럽의 연계성을 강화하기 위해 매년 이 프로그...</td>\n",
              "    </tr>\n",
              "    <tr>\n",
              "      <th>515</th>\n",
              "      <td>klue-sts-v1_dev_00515</td>\n",
              "      <td>airbnb-sampled</td>\n",
              "      <td>일단 정확한 정보와 빠른 답변이 정말 좋았습니다.</td>\n",
              "      <td>호스트의 빠른 답변과 유용한 정보들이 정말 좋습니다.</td>\n",
              "      <td>{'label': 2.8, 'real-label': 2.833333333333333...</td>\n",
              "      <td>{'agreement': '0:0:1:5:0:0', 'annotators': ['0...</td>\n",
              "      <td>일단 정확한 정보와 빠른 답변이 정말 좋았습니다</td>\n",
              "      <td>호스트의 빠른 답변과 유용한 정보들이 정말 좋습니다</td>\n",
              "    </tr>\n",
              "    <tr>\n",
              "      <th>516</th>\n",
              "      <td>klue-sts-v1_dev_00516</td>\n",
              "      <td>airbnb-sampled</td>\n",
              "      <td>게스트에 대한 배려가 묻어나는 시설들이었습니다.</td>\n",
              "      <td>우선 공간에 대한 센스가 돋보이는 곳이었습니다.</td>\n",
              "      <td>{'label': 0.30000000000000004, 'real-label': 0...</td>\n",
              "      <td>{'agreement': '4:2:0:0:0:0', 'annotators': ['1...</td>\n",
              "      <td>게스트에 대한 배려가 묻어나는 시설들이었습니다</td>\n",
              "      <td>우선 공간에 대한 센스가 돋보이는 곳이었습니다</td>\n",
              "    </tr>\n",
              "    <tr>\n",
              "      <th>517</th>\n",
              "      <td>klue-sts-v1_dev_00517</td>\n",
              "      <td>policy-sampled</td>\n",
              "      <td>밤하늘을 배경으로 ‘비대면 드론쇼’도 펼쳐진다.</td>\n",
              "      <td>‘비대면 실감형 문화공연 플랫폼’ 개념도.</td>\n",
              "      <td>{'label': 0.30000000000000004, 'real-label': 0...</td>\n",
              "      <td>{'agreement': '5:0:1:0:0:0', 'annotators': ['0...</td>\n",
              "      <td>밤하늘을 배경으로 비대면 드론쇼’도 펼쳐진다</td>\n",
              "      <td>비대면 실감형 문화공연 플랫폼’ 개념도</td>\n",
              "    </tr>\n",
              "    <tr>\n",
              "      <th>518</th>\n",
              "      <td>klue-sts-v1_dev_00518</td>\n",
              "      <td>airbnb-sampled</td>\n",
              "      <td>여느 포르투갈의 비앤비와 같이 엘리베이터는 없습니다.</td>\n",
              "      <td>포르투의 거의 모든 숙박 시설은 엘리베이터는 없습니다.</td>\n",
              "      <td>{'label': 2.9, 'real-label': 2.857142857142857...</td>\n",
              "      <td>{'agreement': '0:0:2:4:1:0', 'annotators': ['0...</td>\n",
              "      <td>여느 포르투갈의 비앤비와 같이 엘리베이터는 없습니다</td>\n",
              "      <td>포르투의 거의 모든 숙박 시설은 엘리베이터는 없습니다</td>\n",
              "    </tr>\n",
              "  </tbody>\n",
              "</table>\n",
              "<p>519 rows × 8 columns</p>\n",
              "</div>\n",
              "      <button class=\"colab-df-convert\" onclick=\"convertToInteractive('df-bc02f55c-7390-4f6c-91b1-44afed6b8499')\"\n",
              "              title=\"Convert this dataframe to an interactive table.\"\n",
              "              style=\"display:none;\">\n",
              "        \n",
              "  <svg xmlns=\"http://www.w3.org/2000/svg\" height=\"24px\"viewBox=\"0 0 24 24\"\n",
              "       width=\"24px\">\n",
              "    <path d=\"M0 0h24v24H0V0z\" fill=\"none\"/>\n",
              "    <path d=\"M18.56 5.44l.94 2.06.94-2.06 2.06-.94-2.06-.94-.94-2.06-.94 2.06-2.06.94zm-11 1L8.5 8.5l.94-2.06 2.06-.94-2.06-.94L8.5 2.5l-.94 2.06-2.06.94zm10 10l.94 2.06.94-2.06 2.06-.94-2.06-.94-.94-2.06-.94 2.06-2.06.94z\"/><path d=\"M17.41 7.96l-1.37-1.37c-.4-.4-.92-.59-1.43-.59-.52 0-1.04.2-1.43.59L10.3 9.45l-7.72 7.72c-.78.78-.78 2.05 0 2.83L4 21.41c.39.39.9.59 1.41.59.51 0 1.02-.2 1.41-.59l7.78-7.78 2.81-2.81c.8-.78.8-2.07 0-2.86zM5.41 20L4 18.59l7.72-7.72 1.47 1.35L5.41 20z\"/>\n",
              "  </svg>\n",
              "      </button>\n",
              "      \n",
              "  <style>\n",
              "    .colab-df-container {\n",
              "      display:flex;\n",
              "      flex-wrap:wrap;\n",
              "      gap: 12px;\n",
              "    }\n",
              "\n",
              "    .colab-df-convert {\n",
              "      background-color: #E8F0FE;\n",
              "      border: none;\n",
              "      border-radius: 50%;\n",
              "      cursor: pointer;\n",
              "      display: none;\n",
              "      fill: #1967D2;\n",
              "      height: 32px;\n",
              "      padding: 0 0 0 0;\n",
              "      width: 32px;\n",
              "    }\n",
              "\n",
              "    .colab-df-convert:hover {\n",
              "      background-color: #E2EBFA;\n",
              "      box-shadow: 0px 1px 2px rgba(60, 64, 67, 0.3), 0px 1px 3px 1px rgba(60, 64, 67, 0.15);\n",
              "      fill: #174EA6;\n",
              "    }\n",
              "\n",
              "    [theme=dark] .colab-df-convert {\n",
              "      background-color: #3B4455;\n",
              "      fill: #D2E3FC;\n",
              "    }\n",
              "\n",
              "    [theme=dark] .colab-df-convert:hover {\n",
              "      background-color: #434B5C;\n",
              "      box-shadow: 0px 1px 3px 1px rgba(0, 0, 0, 0.15);\n",
              "      filter: drop-shadow(0px 1px 2px rgba(0, 0, 0, 0.3));\n",
              "      fill: #FFFFFF;\n",
              "    }\n",
              "  </style>\n",
              "\n",
              "      <script>\n",
              "        const buttonEl =\n",
              "          document.querySelector('#df-bc02f55c-7390-4f6c-91b1-44afed6b8499 button.colab-df-convert');\n",
              "        buttonEl.style.display =\n",
              "          google.colab.kernel.accessAllowed ? 'block' : 'none';\n",
              "\n",
              "        async function convertToInteractive(key) {\n",
              "          const element = document.querySelector('#df-bc02f55c-7390-4f6c-91b1-44afed6b8499');\n",
              "          const dataTable =\n",
              "            await google.colab.kernel.invokeFunction('convertToInteractive',\n",
              "                                                     [key], {});\n",
              "          if (!dataTable) return;\n",
              "\n",
              "          const docLinkHtml = 'Like what you see? Visit the ' +\n",
              "            '<a target=\"_blank\" href=https://colab.research.google.com/notebooks/data_table.ipynb>data table notebook</a>'\n",
              "            + ' to learn more about interactive tables.';\n",
              "          element.innerHTML = '';\n",
              "          dataTable['output_type'] = 'display_data';\n",
              "          await google.colab.output.renderOutput(dataTable, element);\n",
              "          const docLink = document.createElement('div');\n",
              "          docLink.innerHTML = docLinkHtml;\n",
              "          element.appendChild(docLink);\n",
              "        }\n",
              "      </script>\n",
              "    </div>\n",
              "  </div>\n",
              "  "
            ]
          },
          "metadata": {},
          "execution_count": 197
        }
      ]
    },
    {
      "cell_type": "code",
      "source": [
        ""
      ],
      "metadata": {
        "id": "nLpLZHteuSqF"
      },
      "execution_count": null,
      "outputs": []
    }
  ]
}